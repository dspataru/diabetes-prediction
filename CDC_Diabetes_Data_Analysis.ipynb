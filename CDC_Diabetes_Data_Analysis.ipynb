{
 "cells": [
  {
   "cell_type": "markdown",
   "id": "618c074b",
   "metadata": {},
   "source": [
    "### <b>I<span style='color:#16C2D5'>|</span> Import libraries</b> "
   ]
  },
  {
   "cell_type": "code",
   "execution_count": 63,
   "id": "23d0cad8",
   "metadata": {},
   "outputs": [
    {
     "data": {
      "text/html": [
       "        <script type=\"text/javascript\">\n",
       "        window.PlotlyConfig = {MathJaxConfig: 'local'};\n",
       "        if (window.MathJax && window.MathJax.Hub && window.MathJax.Hub.Config) {window.MathJax.Hub.Config({SVG: {font: \"STIX-Web\"}});}\n",
       "        if (typeof require !== 'undefined') {\n",
       "        require.undef(\"plotly\");\n",
       "        requirejs.config({\n",
       "            paths: {\n",
       "                'plotly': ['https://cdn.plot.ly/plotly-2.12.1.min']\n",
       "            }\n",
       "        });\n",
       "        require(['plotly'], function(Plotly) {\n",
       "            window._Plotly = Plotly;\n",
       "        });\n",
       "        }\n",
       "        </script>\n",
       "        "
      ]
     },
     "metadata": {},
     "output_type": "display_data"
    }
   ],
   "source": [
    "import pandas as pd\n",
    "import os\n",
    "import numpy as np\n",
    "from scipy.stats import skew\n",
    "import category_encoders as ce\n",
    "from sklearn.feature_selection import SelectKBest, SelectPercentile, mutual_info_classif,chi2\n",
    "# Plots\n",
    "import seaborn as sns\n",
    "import matplotlib.pyplot as plt\n",
    "%matplotlib inline\n",
    "import plotly.offline as py\n",
    "import plotly.graph_objs as go\n",
    "from plotly.offline import download_plotlyjs, init_notebook_mode, plot, iplot\n",
    "import plotly.tools as tls\n",
    "import plotly.figure_factory as ff\n",
    "py.init_notebook_mode(connected=True)"
   ]
  },
  {
   "cell_type": "markdown",
   "id": "27ff819f",
   "metadata": {},
   "source": [
    "### <b>II <span style='color:#16C2D5'>|</span> Input the data</b> "
   ]
  },
  {
   "cell_type": "code",
   "execution_count": 3,
   "id": "db23bfc7",
   "metadata": {
    "scrolled": true
   },
   "outputs": [],
   "source": [
    "data = pd.read_csv(\"gen_info_final.csv\")"
   ]
  },
  {
   "cell_type": "markdown",
   "id": "a9148c73",
   "metadata": {},
   "source": [
    "# <span style=\"color:#E888BB; font-size: 1%;\">1 | EXPLORATORY DATA ANALYSIS</span><span style='color:black'>1 | EXPLORATORY DATA ANALYSIS </span></b> </div>"
   ]
  },
  {
   "cell_type": "code",
   "execution_count": 4,
   "id": "f884180d",
   "metadata": {
    "scrolled": true
   },
   "outputs": [
    {
     "data": {
      "text/html": [
       "<div>\n",
       "<style scoped>\n",
       "    .dataframe tbody tr th:only-of-type {\n",
       "        vertical-align: middle;\n",
       "    }\n",
       "\n",
       "    .dataframe tbody tr th {\n",
       "        vertical-align: top;\n",
       "    }\n",
       "\n",
       "    .dataframe thead th {\n",
       "        text-align: right;\n",
       "    }\n",
       "</style>\n",
       "<table border=\"1\" class=\"dataframe\">\n",
       "  <thead>\n",
       "    <tr style=\"text-align: right;\">\n",
       "      <th></th>\n",
       "      <th>Unnamed: 0</th>\n",
       "      <th>ID</th>\n",
       "      <th>STATE</th>\n",
       "      <th>GENDER</th>\n",
       "      <th>INCOME</th>\n",
       "      <th>WEIGHT</th>\n",
       "      <th>BMI</th>\n",
       "      <th>RACE</th>\n",
       "      <th>AGE</th>\n",
       "      <th>DIABETES</th>\n",
       "      <th>...</th>\n",
       "      <th>PERSONAL_DOC</th>\n",
       "      <th>CHECKUP1</th>\n",
       "      <th>HRT_ATTACK</th>\n",
       "      <th>HRT_DISEASE</th>\n",
       "      <th>STROKE</th>\n",
       "      <th>ARTHRITIS</th>\n",
       "      <th>_SMOKER3</th>\n",
       "      <th>DIFFWALK</th>\n",
       "      <th>EDUCATION</th>\n",
       "      <th>HEIGHT</th>\n",
       "    </tr>\n",
       "  </thead>\n",
       "  <tbody>\n",
       "    <tr>\n",
       "      <th>0</th>\n",
       "      <td>1</td>\n",
       "      <td>1</td>\n",
       "      <td>1.0</td>\n",
       "      <td>FEMALE</td>\n",
       "      <td>3.0</td>\n",
       "      <td>6804.0</td>\n",
       "      <td>Over_Weight</td>\n",
       "      <td>White</td>\n",
       "      <td>13.0</td>\n",
       "      <td>0.0</td>\n",
       "      <td>...</td>\n",
       "      <td>2.0</td>\n",
       "      <td>0.0</td>\n",
       "      <td>0.0</td>\n",
       "      <td>0.0</td>\n",
       "      <td>0.0</td>\n",
       "      <td>0.0</td>\n",
       "      <td>Never</td>\n",
       "      <td>0.0</td>\n",
       "      <td>Grad_HS_Y</td>\n",
       "      <td>63.0</td>\n",
       "    </tr>\n",
       "    <tr>\n",
       "      <th>1</th>\n",
       "      <td>2</td>\n",
       "      <td>2</td>\n",
       "      <td>1.0</td>\n",
       "      <td>FEMALE</td>\n",
       "      <td>6.0</td>\n",
       "      <td>6350.0</td>\n",
       "      <td>Over_Weight</td>\n",
       "      <td>White</td>\n",
       "      <td>8.0</td>\n",
       "      <td>0.0</td>\n",
       "      <td>...</td>\n",
       "      <td>1.0</td>\n",
       "      <td>1.0</td>\n",
       "      <td>0.0</td>\n",
       "      <td>0.0</td>\n",
       "      <td>0.0</td>\n",
       "      <td>0.0</td>\n",
       "      <td>Never</td>\n",
       "      <td>0.0</td>\n",
       "      <td>College_Y</td>\n",
       "      <td>62.0</td>\n",
       "    </tr>\n",
       "    <tr>\n",
       "      <th>2</th>\n",
       "      <td>4</td>\n",
       "      <td>4</td>\n",
       "      <td>1.0</td>\n",
       "      <td>FEMALE</td>\n",
       "      <td>3.0</td>\n",
       "      <td>5398.0</td>\n",
       "      <td>Normal_Weight</td>\n",
       "      <td>White</td>\n",
       "      <td>5.0</td>\n",
       "      <td>0.0</td>\n",
       "      <td>...</td>\n",
       "      <td>2.0</td>\n",
       "      <td>1.0</td>\n",
       "      <td>0.0</td>\n",
       "      <td>0.0</td>\n",
       "      <td>0.0</td>\n",
       "      <td>0.0</td>\n",
       "      <td>Never</td>\n",
       "      <td>0.0</td>\n",
       "      <td>College_N</td>\n",
       "      <td>62.0</td>\n",
       "    </tr>\n",
       "    <tr>\n",
       "      <th>3</th>\n",
       "      <td>6</td>\n",
       "      <td>6</td>\n",
       "      <td>1.0</td>\n",
       "      <td>FEMALE</td>\n",
       "      <td>5.0</td>\n",
       "      <td>6260.0</td>\n",
       "      <td>Normal_Weight</td>\n",
       "      <td>Black</td>\n",
       "      <td>13.0</td>\n",
       "      <td>0.0</td>\n",
       "      <td>...</td>\n",
       "      <td>1.0</td>\n",
       "      <td>1.0</td>\n",
       "      <td>0.0</td>\n",
       "      <td>0.0</td>\n",
       "      <td>0.0</td>\n",
       "      <td>0.0</td>\n",
       "      <td>Prev_Smoker</td>\n",
       "      <td>0.0</td>\n",
       "      <td>College_Y</td>\n",
       "      <td>65.0</td>\n",
       "    </tr>\n",
       "    <tr>\n",
       "      <th>4</th>\n",
       "      <td>7</td>\n",
       "      <td>7</td>\n",
       "      <td>1.0</td>\n",
       "      <td>FEMALE</td>\n",
       "      <td>5.0</td>\n",
       "      <td>7348.0</td>\n",
       "      <td>Over_Weight</td>\n",
       "      <td>White</td>\n",
       "      <td>13.0</td>\n",
       "      <td>0.0</td>\n",
       "      <td>...</td>\n",
       "      <td>1.0</td>\n",
       "      <td>1.0</td>\n",
       "      <td>0.0</td>\n",
       "      <td>0.0</td>\n",
       "      <td>0.0</td>\n",
       "      <td>1.0</td>\n",
       "      <td>Never</td>\n",
       "      <td>0.0</td>\n",
       "      <td>Grad_HS_Y</td>\n",
       "      <td>64.0</td>\n",
       "    </tr>\n",
       "    <tr>\n",
       "      <th>...</th>\n",
       "      <td>...</td>\n",
       "      <td>...</td>\n",
       "      <td>...</td>\n",
       "      <td>...</td>\n",
       "      <td>...</td>\n",
       "      <td>...</td>\n",
       "      <td>...</td>\n",
       "      <td>...</td>\n",
       "      <td>...</td>\n",
       "      <td>...</td>\n",
       "      <td>...</td>\n",
       "      <td>...</td>\n",
       "      <td>...</td>\n",
       "      <td>...</td>\n",
       "      <td>...</td>\n",
       "      <td>...</td>\n",
       "      <td>...</td>\n",
       "      <td>...</td>\n",
       "      <td>...</td>\n",
       "      <td>...</td>\n",
       "      <td>...</td>\n",
       "    </tr>\n",
       "    <tr>\n",
       "      <th>246045</th>\n",
       "      <td>353265</td>\n",
       "      <td>445126</td>\n",
       "      <td>78.0</td>\n",
       "      <td>MALE</td>\n",
       "      <td>5.0</td>\n",
       "      <td>10433.0</td>\n",
       "      <td>Obese</td>\n",
       "      <td>White</td>\n",
       "      <td>3.0</td>\n",
       "      <td>0.0</td>\n",
       "      <td>...</td>\n",
       "      <td>0.0</td>\n",
       "      <td>2.0</td>\n",
       "      <td>0.0</td>\n",
       "      <td>0.0</td>\n",
       "      <td>0.0</td>\n",
       "      <td>0.0</td>\n",
       "      <td>Never</td>\n",
       "      <td>0.0</td>\n",
       "      <td>College_Y</td>\n",
       "      <td>72.0</td>\n",
       "    </tr>\n",
       "    <tr>\n",
       "      <th>246046</th>\n",
       "      <td>353266</td>\n",
       "      <td>445127</td>\n",
       "      <td>78.0</td>\n",
       "      <td>FEMALE</td>\n",
       "      <td>1.0</td>\n",
       "      <td>6985.0</td>\n",
       "      <td>Over_Weight</td>\n",
       "      <td>Black</td>\n",
       "      <td>1.0</td>\n",
       "      <td>0.0</td>\n",
       "      <td>...</td>\n",
       "      <td>0.0</td>\n",
       "      <td>2.0</td>\n",
       "      <td>0.0</td>\n",
       "      <td>0.0</td>\n",
       "      <td>0.0</td>\n",
       "      <td>0.0</td>\n",
       "      <td>Never</td>\n",
       "      <td>0.0</td>\n",
       "      <td>Grad_HS_Y</td>\n",
       "      <td>65.0</td>\n",
       "    </tr>\n",
       "    <tr>\n",
       "      <th>246047</th>\n",
       "      <td>353267</td>\n",
       "      <td>445128</td>\n",
       "      <td>78.0</td>\n",
       "      <td>FEMALE</td>\n",
       "      <td>5.0</td>\n",
       "      <td>8301.0</td>\n",
       "      <td>Over_Weight</td>\n",
       "      <td>Black</td>\n",
       "      <td>7.0</td>\n",
       "      <td>0.0</td>\n",
       "      <td>...</td>\n",
       "      <td>2.0</td>\n",
       "      <td>1.0</td>\n",
       "      <td>0.0</td>\n",
       "      <td>0.0</td>\n",
       "      <td>0.0</td>\n",
       "      <td>0.0</td>\n",
       "      <td>Never</td>\n",
       "      <td>0.0</td>\n",
       "      <td>College_Y</td>\n",
       "      <td>67.0</td>\n",
       "    </tr>\n",
       "    <tr>\n",
       "      <th>246048</th>\n",
       "      <td>353269</td>\n",
       "      <td>445130</td>\n",
       "      <td>78.0</td>\n",
       "      <td>MALE</td>\n",
       "      <td>5.0</td>\n",
       "      <td>10886.0</td>\n",
       "      <td>Obese</td>\n",
       "      <td>Black</td>\n",
       "      <td>11.0</td>\n",
       "      <td>0.0</td>\n",
       "      <td>...</td>\n",
       "      <td>2.0</td>\n",
       "      <td>1.0</td>\n",
       "      <td>1.0</td>\n",
       "      <td>0.0</td>\n",
       "      <td>0.0</td>\n",
       "      <td>0.0</td>\n",
       "      <td>Never</td>\n",
       "      <td>0.0</td>\n",
       "      <td>College_N</td>\n",
       "      <td>72.0</td>\n",
       "    </tr>\n",
       "    <tr>\n",
       "      <th>246049</th>\n",
       "      <td>353270</td>\n",
       "      <td>445131</td>\n",
       "      <td>78.0</td>\n",
       "      <td>MALE</td>\n",
       "      <td>2.0</td>\n",
       "      <td>6350.0</td>\n",
       "      <td>Normal_Weight</td>\n",
       "      <td>Black</td>\n",
       "      <td>5.0</td>\n",
       "      <td>0.0</td>\n",
       "      <td>...</td>\n",
       "      <td>0.0</td>\n",
       "      <td>0.0</td>\n",
       "      <td>0.0</td>\n",
       "      <td>0.0</td>\n",
       "      <td>0.0</td>\n",
       "      <td>0.0</td>\n",
       "      <td>Prev_Smoker</td>\n",
       "      <td>1.0</td>\n",
       "      <td>Grad_HS_N</td>\n",
       "      <td>66.0</td>\n",
       "    </tr>\n",
       "  </tbody>\n",
       "</table>\n",
       "<p>246050 rows × 25 columns</p>\n",
       "</div>"
      ],
      "text/plain": [
       "        Unnamed: 0      ID  STATE  GENDER  INCOME   WEIGHT            BMI  \\\n",
       "0                1       1    1.0  FEMALE     3.0   6804.0    Over_Weight   \n",
       "1                2       2    1.0  FEMALE     6.0   6350.0    Over_Weight   \n",
       "2                4       4    1.0  FEMALE     3.0   5398.0  Normal_Weight   \n",
       "3                6       6    1.0  FEMALE     5.0   6260.0  Normal_Weight   \n",
       "4                7       7    1.0  FEMALE     5.0   7348.0    Over_Weight   \n",
       "...            ...     ...    ...     ...     ...      ...            ...   \n",
       "246045      353265  445126   78.0    MALE     5.0  10433.0          Obese   \n",
       "246046      353266  445127   78.0  FEMALE     1.0   6985.0    Over_Weight   \n",
       "246047      353267  445128   78.0  FEMALE     5.0   8301.0    Over_Weight   \n",
       "246048      353269  445130   78.0    MALE     5.0  10886.0          Obese   \n",
       "246049      353270  445131   78.0    MALE     2.0   6350.0  Normal_Weight   \n",
       "\n",
       "         RACE   AGE  DIABETES  ...  PERSONAL_DOC  CHECKUP1  HRT_ATTACK  \\\n",
       "0       White  13.0       0.0  ...           2.0       0.0         0.0   \n",
       "1       White   8.0       0.0  ...           1.0       1.0         0.0   \n",
       "2       White   5.0       0.0  ...           2.0       1.0         0.0   \n",
       "3       Black  13.0       0.0  ...           1.0       1.0         0.0   \n",
       "4       White  13.0       0.0  ...           1.0       1.0         0.0   \n",
       "...       ...   ...       ...  ...           ...       ...         ...   \n",
       "246045  White   3.0       0.0  ...           0.0       2.0         0.0   \n",
       "246046  Black   1.0       0.0  ...           0.0       2.0         0.0   \n",
       "246047  Black   7.0       0.0  ...           2.0       1.0         0.0   \n",
       "246048  Black  11.0       0.0  ...           2.0       1.0         1.0   \n",
       "246049  Black   5.0       0.0  ...           0.0       0.0         0.0   \n",
       "\n",
       "        HRT_DISEASE  STROKE  ARTHRITIS     _SMOKER3  DIFFWALK  EDUCATION  \\\n",
       "0               0.0     0.0        0.0        Never       0.0  Grad_HS_Y   \n",
       "1               0.0     0.0        0.0        Never       0.0  College_Y   \n",
       "2               0.0     0.0        0.0        Never       0.0  College_N   \n",
       "3               0.0     0.0        0.0  Prev_Smoker       0.0  College_Y   \n",
       "4               0.0     0.0        1.0        Never       0.0  Grad_HS_Y   \n",
       "...             ...     ...        ...          ...       ...        ...   \n",
       "246045          0.0     0.0        0.0        Never       0.0  College_Y   \n",
       "246046          0.0     0.0        0.0        Never       0.0  Grad_HS_Y   \n",
       "246047          0.0     0.0        0.0        Never       0.0  College_Y   \n",
       "246048          0.0     0.0        0.0        Never       0.0  College_N   \n",
       "246049          0.0     0.0        0.0  Prev_Smoker       1.0  Grad_HS_N   \n",
       "\n",
       "        HEIGHT  \n",
       "0         63.0  \n",
       "1         62.0  \n",
       "2         62.0  \n",
       "3         65.0  \n",
       "4         64.0  \n",
       "...        ...  \n",
       "246045    72.0  \n",
       "246046    65.0  \n",
       "246047    67.0  \n",
       "246048    72.0  \n",
       "246049    66.0  \n",
       "\n",
       "[246050 rows x 25 columns]"
      ]
     },
     "execution_count": 4,
     "metadata": {},
     "output_type": "execute_result"
    }
   ],
   "source": [
    "#Visualize the Dataframe\n",
    "data"
   ]
  },
  {
   "cell_type": "code",
   "execution_count": 5,
   "id": "d71b7082",
   "metadata": {},
   "outputs": [],
   "source": [
    "data = data.iloc[: , 1:]"
   ]
  },
  {
   "cell_type": "code",
   "execution_count": 6,
   "id": "cd41e1d1",
   "metadata": {},
   "outputs": [
    {
     "data": {
      "text/plain": [
       "(246050, 24)"
      ]
     },
     "execution_count": 6,
     "metadata": {},
     "output_type": "execute_result"
    }
   ],
   "source": [
    "#Check the dimension of the data\n",
    "data.shape"
   ]
  },
  {
   "cell_type": "code",
   "execution_count": 7,
   "id": "76e2ab2c",
   "metadata": {
    "scrolled": true
   },
   "outputs": [
    {
     "data": {
      "text/plain": [
       "ID               0\n",
       "STATE            0\n",
       "GENDER           0\n",
       "INCOME           0\n",
       "WEIGHT           0\n",
       "BMI              0\n",
       "RACE             0\n",
       "AGE              0\n",
       "DIABETES         0\n",
       "PHYSHLTH         0\n",
       "MENTHLTH         0\n",
       "EXERCISE         0\n",
       "SLEEP            0\n",
       "HLT_INSURANCE    0\n",
       "PERSONAL_DOC     0\n",
       "CHECKUP1         0\n",
       "HRT_ATTACK       0\n",
       "HRT_DISEASE      0\n",
       "STROKE           0\n",
       "ARTHRITIS        0\n",
       "_SMOKER3         0\n",
       "DIFFWALK         0\n",
       "EDUCATION        0\n",
       "HEIGHT           0\n",
       "dtype: int64"
      ]
     },
     "execution_count": 7,
     "metadata": {},
     "output_type": "execute_result"
    }
   ],
   "source": [
    "#Finding the null values for each column\n",
    "data.isnull().sum()"
   ]
  },
  {
   "cell_type": "markdown",
   "id": "3f99c0f7",
   "metadata": {},
   "source": [
    "### <b><span style='color:#16C2D5'>|</span> Uniqueness</b> "
   ]
  },
  {
   "cell_type": "code",
   "execution_count": 8,
   "id": "f9b04117",
   "metadata": {},
   "outputs": [
    {
     "name": "stdout",
     "output_type": "stream",
     "text": [
      "ID: 246050 distinct values\n",
      "STATE: 54 distinct values\n",
      "GENDER: 2 distinct values\n",
      "INCOME: 7 distinct values\n",
      "WEIGHT: 501 distinct values\n",
      "BMI: 4 distinct values\n",
      "RACE: 7 distinct values\n",
      "AGE: 13 distinct values\n",
      "DIABETES: 4 distinct values\n",
      "PHYSHLTH: 31 distinct values\n",
      "MENTHLTH: 31 distinct values\n",
      "EXERCISE: 2 distinct values\n",
      "SLEEP: 23 distinct values\n",
      "HLT_INSURANCE: 11 distinct values\n",
      "PERSONAL_DOC: 3 distinct values\n",
      "CHECKUP1: 5 distinct values\n",
      "HRT_ATTACK: 2 distinct values\n",
      "HRT_DISEASE: 2 distinct values\n",
      "STROKE: 2 distinct values\n",
      "ARTHRITIS: 2 distinct values\n",
      "_SMOKER3: 4 distinct values\n",
      "DIFFWALK: 2 distinct values\n",
      "EDUCATION: 4 distinct values\n",
      "HEIGHT: 123 distinct values\n"
     ]
    }
   ],
   "source": [
    "for column in data.columns:\n",
    "    num_distinct_values = len(data[column].unique())\n",
    "    print(f\"{column}: {num_distinct_values} distinct values\")"
   ]
  },
  {
   "cell_type": "code",
   "execution_count": 9,
   "id": "98380f82",
   "metadata": {},
   "outputs": [
    {
     "data": {
      "text/plain": [
       "ID                 int64\n",
       "STATE            float64\n",
       "GENDER            object\n",
       "INCOME           float64\n",
       "WEIGHT           float64\n",
       "BMI               object\n",
       "RACE              object\n",
       "AGE              float64\n",
       "DIABETES         float64\n",
       "PHYSHLTH         float64\n",
       "MENTHLTH         float64\n",
       "EXERCISE         float64\n",
       "SLEEP            float64\n",
       "HLT_INSURANCE    float64\n",
       "PERSONAL_DOC     float64\n",
       "CHECKUP1         float64\n",
       "HRT_ATTACK       float64\n",
       "HRT_DISEASE      float64\n",
       "STROKE           float64\n",
       "ARTHRITIS        float64\n",
       "_SMOKER3          object\n",
       "DIFFWALK         float64\n",
       "EDUCATION         object\n",
       "HEIGHT           float64\n",
       "dtype: object"
      ]
     },
     "execution_count": 9,
     "metadata": {},
     "output_type": "execute_result"
    }
   ],
   "source": [
    "data.dtypes"
   ]
  },
  {
   "cell_type": "markdown",
   "id": "93a2327a",
   "metadata": {},
   "source": [
    "### <b><span style='color:#16C2D5'>|</span> Describe the Data</b> "
   ]
  },
  {
   "cell_type": "code",
   "execution_count": 10,
   "id": "26e7064f",
   "metadata": {},
   "outputs": [
    {
     "name": "stdout",
     "output_type": "stream",
     "text": [
      "<class 'pandas.core.frame.DataFrame'>\n",
      "RangeIndex: 246050 entries, 0 to 246049\n",
      "Data columns (total 24 columns):\n",
      " #   Column         Non-Null Count   Dtype  \n",
      "---  ------         --------------   -----  \n",
      " 0   ID             246050 non-null  int64  \n",
      " 1   STATE          246050 non-null  float64\n",
      " 2   GENDER         246050 non-null  object \n",
      " 3   INCOME         246050 non-null  float64\n",
      " 4   WEIGHT         246050 non-null  float64\n",
      " 5   BMI            246050 non-null  object \n",
      " 6   RACE           246050 non-null  object \n",
      " 7   AGE            246050 non-null  float64\n",
      " 8   DIABETES       246050 non-null  float64\n",
      " 9   PHYSHLTH       246050 non-null  float64\n",
      " 10  MENTHLTH       246050 non-null  float64\n",
      " 11  EXERCISE       246050 non-null  float64\n",
      " 12  SLEEP          246050 non-null  float64\n",
      " 13  HLT_INSURANCE  246050 non-null  float64\n",
      " 14  PERSONAL_DOC   246050 non-null  float64\n",
      " 15  CHECKUP1       246050 non-null  float64\n",
      " 16  HRT_ATTACK     246050 non-null  float64\n",
      " 17  HRT_DISEASE    246050 non-null  float64\n",
      " 18  STROKE         246050 non-null  float64\n",
      " 19  ARTHRITIS      246050 non-null  float64\n",
      " 20  _SMOKER3       246050 non-null  object \n",
      " 21  DIFFWALK       246050 non-null  float64\n",
      " 22  EDUCATION      246050 non-null  object \n",
      " 23  HEIGHT         246050 non-null  float64\n",
      "dtypes: float64(18), int64(1), object(5)\n",
      "memory usage: 45.1+ MB\n"
     ]
    }
   ],
   "source": [
    "data.info()"
   ]
  },
  {
   "cell_type": "markdown",
   "id": "469dfdbc",
   "metadata": {},
   "source": [
    "## <span style='color:black'> 2. Univariate Analysis</span></b> </div>\n",
    "\n",
    "### <b>I <span style='color:#16C2D5'>|</span> Diabete</b> "
   ]
  },
  {
   "cell_type": "code",
   "execution_count": 11,
   "id": "f3a3cde8",
   "metadata": {},
   "outputs": [
    {
     "data": {
      "text/plain": [
       "0.0    204208\n",
       "1.0     34006\n",
       "4.0      5699\n",
       "2.0      2137\n",
       "Name: DIABETES, dtype: int64"
      ]
     },
     "execution_count": 11,
     "metadata": {},
     "output_type": "execute_result"
    }
   ],
   "source": [
    "#How many Diabetes?\n",
    "selected_column = 'DIABETES'\n",
    "\n",
    "# Plot the distribution using matplotlib\n",
    "value_counts = data[selected_column].value_counts()\n",
    "value_counts"
   ]
  },
  {
   "cell_type": "code",
   "execution_count": 12,
   "id": "2944b6d5",
   "metadata": {},
   "outputs": [],
   "source": [
    "data.DIABETES[data.DIABETES < 3] = 1\n",
    "data.DIABETES[data.DIABETES > 2] = 0"
   ]
  },
  {
   "cell_type": "code",
   "execution_count": 13,
   "id": "e1201720",
   "metadata": {},
   "outputs": [
    {
     "data": {
      "text/plain": [
       "array([1., 0.])"
      ]
     },
     "execution_count": 13,
     "metadata": {},
     "output_type": "execute_result"
    }
   ],
   "source": [
    "data.DIABETES.unique()"
   ]
  },
  {
   "cell_type": "code",
   "execution_count": 14,
   "id": "fdac50d3",
   "metadata": {
    "scrolled": true
   },
   "outputs": [],
   "source": [
    "D = data[(data['DIABETES'] == 1)]\n",
    "H = data[(data['DIABETES'] == 0)]\n",
    "\n",
    "#------------COUNT-----------------------\n",
    "def target_count():\n",
    "    trace = go.Bar( x = data['DIABETES'].value_counts().values.tolist(), \n",
    "                    y = ['healthy','diabetic' ], \n",
    "                    orientation = 'h', \n",
    "                    text=data['DIABETES'].value_counts().values.tolist(), \n",
    "                    textfont=dict(size=15),\n",
    "                    textposition = 'auto',\n",
    "                    opacity = 0.8,marker=dict(\n",
    "                    color=['lightskyblue', 'gold'],\n",
    "                    line=dict(color='#000000',width=1.5)))\n",
    "\n",
    "    layout = dict(title =  'Count of Outcome variable')\n",
    "\n",
    "    fig = dict(data = [trace], layout=layout)\n",
    "    py.iplot(fig)\n",
    "\n",
    "#------------PERCENTAGE-------------------\n",
    "def target_percent():\n",
    "    trace = go.Pie(labels = ['healthy','diabetic'], values = data['DIABETES'].value_counts(), \n",
    "                   textfont=dict(size=15), opacity = 0.8,\n",
    "                   marker=dict(colors=['lightskyblue', 'gold'], \n",
    "                               line=dict(color='#000000', width=1.5)))\n",
    "\n",
    "\n",
    "    layout = dict(title =  'Distribution of Outcome variable')\n",
    "\n",
    "    fig = dict(data = [trace], layout=layout)\n",
    "    py.iplot(fig)"
   ]
  },
  {
   "cell_type": "code",
   "execution_count": 60,
   "id": "b4c169ce",
   "metadata": {
    "scrolled": false
   },
   "outputs": [
    {
     "data": {
      "application/vnd.plotly.v1+json": {
       "config": {
        "linkText": "Export to plot.ly",
        "plotlyServerURL": "https://plot.ly",
        "showLink": false
       },
       "data": [
        {
         "marker": {
          "color": [
           "lightskyblue",
           "gold"
          ],
          "line": {
           "color": "#000000",
           "width": 1.5
          }
         },
         "opacity": 0.8,
         "orientation": "h",
         "text": [
          "240351",
          "5699"
         ],
         "textfont": {
          "size": 15
         },
         "textposition": "auto",
         "type": "bar",
         "x": [
          240351,
          5699
         ],
         "y": [
          "healthy",
          "diabetic"
         ]
        }
       ],
       "layout": {
        "template": {
         "data": {
          "bar": [
           {
            "error_x": {
             "color": "#2a3f5f"
            },
            "error_y": {
             "color": "#2a3f5f"
            },
            "marker": {
             "line": {
              "color": "#E5ECF6",
              "width": 0.5
             },
             "pattern": {
              "fillmode": "overlay",
              "size": 10,
              "solidity": 0.2
             }
            },
            "type": "bar"
           }
          ],
          "barpolar": [
           {
            "marker": {
             "line": {
              "color": "#E5ECF6",
              "width": 0.5
             },
             "pattern": {
              "fillmode": "overlay",
              "size": 10,
              "solidity": 0.2
             }
            },
            "type": "barpolar"
           }
          ],
          "carpet": [
           {
            "aaxis": {
             "endlinecolor": "#2a3f5f",
             "gridcolor": "white",
             "linecolor": "white",
             "minorgridcolor": "white",
             "startlinecolor": "#2a3f5f"
            },
            "baxis": {
             "endlinecolor": "#2a3f5f",
             "gridcolor": "white",
             "linecolor": "white",
             "minorgridcolor": "white",
             "startlinecolor": "#2a3f5f"
            },
            "type": "carpet"
           }
          ],
          "choropleth": [
           {
            "colorbar": {
             "outlinewidth": 0,
             "ticks": ""
            },
            "type": "choropleth"
           }
          ],
          "contour": [
           {
            "colorbar": {
             "outlinewidth": 0,
             "ticks": ""
            },
            "colorscale": [
             [
              0,
              "#0d0887"
             ],
             [
              0.1111111111111111,
              "#46039f"
             ],
             [
              0.2222222222222222,
              "#7201a8"
             ],
             [
              0.3333333333333333,
              "#9c179e"
             ],
             [
              0.4444444444444444,
              "#bd3786"
             ],
             [
              0.5555555555555556,
              "#d8576b"
             ],
             [
              0.6666666666666666,
              "#ed7953"
             ],
             [
              0.7777777777777778,
              "#fb9f3a"
             ],
             [
              0.8888888888888888,
              "#fdca26"
             ],
             [
              1,
              "#f0f921"
             ]
            ],
            "type": "contour"
           }
          ],
          "contourcarpet": [
           {
            "colorbar": {
             "outlinewidth": 0,
             "ticks": ""
            },
            "type": "contourcarpet"
           }
          ],
          "heatmap": [
           {
            "colorbar": {
             "outlinewidth": 0,
             "ticks": ""
            },
            "colorscale": [
             [
              0,
              "#0d0887"
             ],
             [
              0.1111111111111111,
              "#46039f"
             ],
             [
              0.2222222222222222,
              "#7201a8"
             ],
             [
              0.3333333333333333,
              "#9c179e"
             ],
             [
              0.4444444444444444,
              "#bd3786"
             ],
             [
              0.5555555555555556,
              "#d8576b"
             ],
             [
              0.6666666666666666,
              "#ed7953"
             ],
             [
              0.7777777777777778,
              "#fb9f3a"
             ],
             [
              0.8888888888888888,
              "#fdca26"
             ],
             [
              1,
              "#f0f921"
             ]
            ],
            "type": "heatmap"
           }
          ],
          "heatmapgl": [
           {
            "colorbar": {
             "outlinewidth": 0,
             "ticks": ""
            },
            "colorscale": [
             [
              0,
              "#0d0887"
             ],
             [
              0.1111111111111111,
              "#46039f"
             ],
             [
              0.2222222222222222,
              "#7201a8"
             ],
             [
              0.3333333333333333,
              "#9c179e"
             ],
             [
              0.4444444444444444,
              "#bd3786"
             ],
             [
              0.5555555555555556,
              "#d8576b"
             ],
             [
              0.6666666666666666,
              "#ed7953"
             ],
             [
              0.7777777777777778,
              "#fb9f3a"
             ],
             [
              0.8888888888888888,
              "#fdca26"
             ],
             [
              1,
              "#f0f921"
             ]
            ],
            "type": "heatmapgl"
           }
          ],
          "histogram": [
           {
            "marker": {
             "pattern": {
              "fillmode": "overlay",
              "size": 10,
              "solidity": 0.2
             }
            },
            "type": "histogram"
           }
          ],
          "histogram2d": [
           {
            "colorbar": {
             "outlinewidth": 0,
             "ticks": ""
            },
            "colorscale": [
             [
              0,
              "#0d0887"
             ],
             [
              0.1111111111111111,
              "#46039f"
             ],
             [
              0.2222222222222222,
              "#7201a8"
             ],
             [
              0.3333333333333333,
              "#9c179e"
             ],
             [
              0.4444444444444444,
              "#bd3786"
             ],
             [
              0.5555555555555556,
              "#d8576b"
             ],
             [
              0.6666666666666666,
              "#ed7953"
             ],
             [
              0.7777777777777778,
              "#fb9f3a"
             ],
             [
              0.8888888888888888,
              "#fdca26"
             ],
             [
              1,
              "#f0f921"
             ]
            ],
            "type": "histogram2d"
           }
          ],
          "histogram2dcontour": [
           {
            "colorbar": {
             "outlinewidth": 0,
             "ticks": ""
            },
            "colorscale": [
             [
              0,
              "#0d0887"
             ],
             [
              0.1111111111111111,
              "#46039f"
             ],
             [
              0.2222222222222222,
              "#7201a8"
             ],
             [
              0.3333333333333333,
              "#9c179e"
             ],
             [
              0.4444444444444444,
              "#bd3786"
             ],
             [
              0.5555555555555556,
              "#d8576b"
             ],
             [
              0.6666666666666666,
              "#ed7953"
             ],
             [
              0.7777777777777778,
              "#fb9f3a"
             ],
             [
              0.8888888888888888,
              "#fdca26"
             ],
             [
              1,
              "#f0f921"
             ]
            ],
            "type": "histogram2dcontour"
           }
          ],
          "mesh3d": [
           {
            "colorbar": {
             "outlinewidth": 0,
             "ticks": ""
            },
            "type": "mesh3d"
           }
          ],
          "parcoords": [
           {
            "line": {
             "colorbar": {
              "outlinewidth": 0,
              "ticks": ""
             }
            },
            "type": "parcoords"
           }
          ],
          "pie": [
           {
            "automargin": true,
            "type": "pie"
           }
          ],
          "scatter": [
           {
            "fillpattern": {
             "fillmode": "overlay",
             "size": 10,
             "solidity": 0.2
            },
            "type": "scatter"
           }
          ],
          "scatter3d": [
           {
            "line": {
             "colorbar": {
              "outlinewidth": 0,
              "ticks": ""
             }
            },
            "marker": {
             "colorbar": {
              "outlinewidth": 0,
              "ticks": ""
             }
            },
            "type": "scatter3d"
           }
          ],
          "scattercarpet": [
           {
            "marker": {
             "colorbar": {
              "outlinewidth": 0,
              "ticks": ""
             }
            },
            "type": "scattercarpet"
           }
          ],
          "scattergeo": [
           {
            "marker": {
             "colorbar": {
              "outlinewidth": 0,
              "ticks": ""
             }
            },
            "type": "scattergeo"
           }
          ],
          "scattergl": [
           {
            "marker": {
             "colorbar": {
              "outlinewidth": 0,
              "ticks": ""
             }
            },
            "type": "scattergl"
           }
          ],
          "scattermapbox": [
           {
            "marker": {
             "colorbar": {
              "outlinewidth": 0,
              "ticks": ""
             }
            },
            "type": "scattermapbox"
           }
          ],
          "scatterpolar": [
           {
            "marker": {
             "colorbar": {
              "outlinewidth": 0,
              "ticks": ""
             }
            },
            "type": "scatterpolar"
           }
          ],
          "scatterpolargl": [
           {
            "marker": {
             "colorbar": {
              "outlinewidth": 0,
              "ticks": ""
             }
            },
            "type": "scatterpolargl"
           }
          ],
          "scatterternary": [
           {
            "marker": {
             "colorbar": {
              "outlinewidth": 0,
              "ticks": ""
             }
            },
            "type": "scatterternary"
           }
          ],
          "surface": [
           {
            "colorbar": {
             "outlinewidth": 0,
             "ticks": ""
            },
            "colorscale": [
             [
              0,
              "#0d0887"
             ],
             [
              0.1111111111111111,
              "#46039f"
             ],
             [
              0.2222222222222222,
              "#7201a8"
             ],
             [
              0.3333333333333333,
              "#9c179e"
             ],
             [
              0.4444444444444444,
              "#bd3786"
             ],
             [
              0.5555555555555556,
              "#d8576b"
             ],
             [
              0.6666666666666666,
              "#ed7953"
             ],
             [
              0.7777777777777778,
              "#fb9f3a"
             ],
             [
              0.8888888888888888,
              "#fdca26"
             ],
             [
              1,
              "#f0f921"
             ]
            ],
            "type": "surface"
           }
          ],
          "table": [
           {
            "cells": {
             "fill": {
              "color": "#EBF0F8"
             },
             "line": {
              "color": "white"
             }
            },
            "header": {
             "fill": {
              "color": "#C8D4E3"
             },
             "line": {
              "color": "white"
             }
            },
            "type": "table"
           }
          ]
         },
         "layout": {
          "annotationdefaults": {
           "arrowcolor": "#2a3f5f",
           "arrowhead": 0,
           "arrowwidth": 1
          },
          "autotypenumbers": "strict",
          "coloraxis": {
           "colorbar": {
            "outlinewidth": 0,
            "ticks": ""
           }
          },
          "colorscale": {
           "diverging": [
            [
             0,
             "#8e0152"
            ],
            [
             0.1,
             "#c51b7d"
            ],
            [
             0.2,
             "#de77ae"
            ],
            [
             0.3,
             "#f1b6da"
            ],
            [
             0.4,
             "#fde0ef"
            ],
            [
             0.5,
             "#f7f7f7"
            ],
            [
             0.6,
             "#e6f5d0"
            ],
            [
             0.7,
             "#b8e186"
            ],
            [
             0.8,
             "#7fbc41"
            ],
            [
             0.9,
             "#4d9221"
            ],
            [
             1,
             "#276419"
            ]
           ],
           "sequential": [
            [
             0,
             "#0d0887"
            ],
            [
             0.1111111111111111,
             "#46039f"
            ],
            [
             0.2222222222222222,
             "#7201a8"
            ],
            [
             0.3333333333333333,
             "#9c179e"
            ],
            [
             0.4444444444444444,
             "#bd3786"
            ],
            [
             0.5555555555555556,
             "#d8576b"
            ],
            [
             0.6666666666666666,
             "#ed7953"
            ],
            [
             0.7777777777777778,
             "#fb9f3a"
            ],
            [
             0.8888888888888888,
             "#fdca26"
            ],
            [
             1,
             "#f0f921"
            ]
           ],
           "sequentialminus": [
            [
             0,
             "#0d0887"
            ],
            [
             0.1111111111111111,
             "#46039f"
            ],
            [
             0.2222222222222222,
             "#7201a8"
            ],
            [
             0.3333333333333333,
             "#9c179e"
            ],
            [
             0.4444444444444444,
             "#bd3786"
            ],
            [
             0.5555555555555556,
             "#d8576b"
            ],
            [
             0.6666666666666666,
             "#ed7953"
            ],
            [
             0.7777777777777778,
             "#fb9f3a"
            ],
            [
             0.8888888888888888,
             "#fdca26"
            ],
            [
             1,
             "#f0f921"
            ]
           ]
          },
          "colorway": [
           "#636efa",
           "#EF553B",
           "#00cc96",
           "#ab63fa",
           "#FFA15A",
           "#19d3f3",
           "#FF6692",
           "#B6E880",
           "#FF97FF",
           "#FECB52"
          ],
          "font": {
           "color": "#2a3f5f"
          },
          "geo": {
           "bgcolor": "white",
           "lakecolor": "white",
           "landcolor": "#E5ECF6",
           "showlakes": true,
           "showland": true,
           "subunitcolor": "white"
          },
          "hoverlabel": {
           "align": "left"
          },
          "hovermode": "closest",
          "mapbox": {
           "style": "light"
          },
          "paper_bgcolor": "white",
          "plot_bgcolor": "#E5ECF6",
          "polar": {
           "angularaxis": {
            "gridcolor": "white",
            "linecolor": "white",
            "ticks": ""
           },
           "bgcolor": "#E5ECF6",
           "radialaxis": {
            "gridcolor": "white",
            "linecolor": "white",
            "ticks": ""
           }
          },
          "scene": {
           "xaxis": {
            "backgroundcolor": "#E5ECF6",
            "gridcolor": "white",
            "gridwidth": 2,
            "linecolor": "white",
            "showbackground": true,
            "ticks": "",
            "zerolinecolor": "white"
           },
           "yaxis": {
            "backgroundcolor": "#E5ECF6",
            "gridcolor": "white",
            "gridwidth": 2,
            "linecolor": "white",
            "showbackground": true,
            "ticks": "",
            "zerolinecolor": "white"
           },
           "zaxis": {
            "backgroundcolor": "#E5ECF6",
            "gridcolor": "white",
            "gridwidth": 2,
            "linecolor": "white",
            "showbackground": true,
            "ticks": "",
            "zerolinecolor": "white"
           }
          },
          "shapedefaults": {
           "line": {
            "color": "#2a3f5f"
           }
          },
          "ternary": {
           "aaxis": {
            "gridcolor": "white",
            "linecolor": "white",
            "ticks": ""
           },
           "baxis": {
            "gridcolor": "white",
            "linecolor": "white",
            "ticks": ""
           },
           "bgcolor": "#E5ECF6",
           "caxis": {
            "gridcolor": "white",
            "linecolor": "white",
            "ticks": ""
           }
          },
          "title": {
           "x": 0.05
          },
          "xaxis": {
           "automargin": true,
           "gridcolor": "white",
           "linecolor": "white",
           "ticks": "",
           "title": {
            "standoff": 15
           },
           "zerolinecolor": "white",
           "zerolinewidth": 2
          },
          "yaxis": {
           "automargin": true,
           "gridcolor": "white",
           "linecolor": "white",
           "ticks": "",
           "title": {
            "standoff": 15
           },
           "zerolinecolor": "white",
           "zerolinewidth": 2
          }
         }
        },
        "title": {
         "text": "Count of Outcome variable"
        }
       }
      },
      "text/html": [
       "<div>                            <div id=\"d3c363c1-26a0-4de2-af96-bbf393d93119\" class=\"plotly-graph-div\" style=\"height:525px; width:100%;\"></div>            <script type=\"text/javascript\">                require([\"plotly\"], function(Plotly) {                    window.PLOTLYENV=window.PLOTLYENV || {};                                    if (document.getElementById(\"d3c363c1-26a0-4de2-af96-bbf393d93119\")) {                    Plotly.newPlot(                        \"d3c363c1-26a0-4de2-af96-bbf393d93119\",                        [{\"marker\":{\"color\":[\"lightskyblue\",\"gold\"],\"line\":{\"color\":\"#000000\",\"width\":1.5}},\"opacity\":0.8,\"orientation\":\"h\",\"text\":[\"240351\",\"5699\"],\"textfont\":{\"size\":15},\"textposition\":\"auto\",\"x\":[240351,5699],\"y\":[\"healthy\",\"diabetic\"],\"type\":\"bar\"}],                        {\"template\":{\"data\":{\"barpolar\":[{\"marker\":{\"line\":{\"color\":\"#E5ECF6\",\"width\":0.5},\"pattern\":{\"fillmode\":\"overlay\",\"size\":10,\"solidity\":0.2}},\"type\":\"barpolar\"}],\"bar\":[{\"error_x\":{\"color\":\"#2a3f5f\"},\"error_y\":{\"color\":\"#2a3f5f\"},\"marker\":{\"line\":{\"color\":\"#E5ECF6\",\"width\":0.5},\"pattern\":{\"fillmode\":\"overlay\",\"size\":10,\"solidity\":0.2}},\"type\":\"bar\"}],\"carpet\":[{\"aaxis\":{\"endlinecolor\":\"#2a3f5f\",\"gridcolor\":\"white\",\"linecolor\":\"white\",\"minorgridcolor\":\"white\",\"startlinecolor\":\"#2a3f5f\"},\"baxis\":{\"endlinecolor\":\"#2a3f5f\",\"gridcolor\":\"white\",\"linecolor\":\"white\",\"minorgridcolor\":\"white\",\"startlinecolor\":\"#2a3f5f\"},\"type\":\"carpet\"}],\"choropleth\":[{\"colorbar\":{\"outlinewidth\":0,\"ticks\":\"\"},\"type\":\"choropleth\"}],\"contourcarpet\":[{\"colorbar\":{\"outlinewidth\":0,\"ticks\":\"\"},\"type\":\"contourcarpet\"}],\"contour\":[{\"colorbar\":{\"outlinewidth\":0,\"ticks\":\"\"},\"colorscale\":[[0.0,\"#0d0887\"],[0.1111111111111111,\"#46039f\"],[0.2222222222222222,\"#7201a8\"],[0.3333333333333333,\"#9c179e\"],[0.4444444444444444,\"#bd3786\"],[0.5555555555555556,\"#d8576b\"],[0.6666666666666666,\"#ed7953\"],[0.7777777777777778,\"#fb9f3a\"],[0.8888888888888888,\"#fdca26\"],[1.0,\"#f0f921\"]],\"type\":\"contour\"}],\"heatmapgl\":[{\"colorbar\":{\"outlinewidth\":0,\"ticks\":\"\"},\"colorscale\":[[0.0,\"#0d0887\"],[0.1111111111111111,\"#46039f\"],[0.2222222222222222,\"#7201a8\"],[0.3333333333333333,\"#9c179e\"],[0.4444444444444444,\"#bd3786\"],[0.5555555555555556,\"#d8576b\"],[0.6666666666666666,\"#ed7953\"],[0.7777777777777778,\"#fb9f3a\"],[0.8888888888888888,\"#fdca26\"],[1.0,\"#f0f921\"]],\"type\":\"heatmapgl\"}],\"heatmap\":[{\"colorbar\":{\"outlinewidth\":0,\"ticks\":\"\"},\"colorscale\":[[0.0,\"#0d0887\"],[0.1111111111111111,\"#46039f\"],[0.2222222222222222,\"#7201a8\"],[0.3333333333333333,\"#9c179e\"],[0.4444444444444444,\"#bd3786\"],[0.5555555555555556,\"#d8576b\"],[0.6666666666666666,\"#ed7953\"],[0.7777777777777778,\"#fb9f3a\"],[0.8888888888888888,\"#fdca26\"],[1.0,\"#f0f921\"]],\"type\":\"heatmap\"}],\"histogram2dcontour\":[{\"colorbar\":{\"outlinewidth\":0,\"ticks\":\"\"},\"colorscale\":[[0.0,\"#0d0887\"],[0.1111111111111111,\"#46039f\"],[0.2222222222222222,\"#7201a8\"],[0.3333333333333333,\"#9c179e\"],[0.4444444444444444,\"#bd3786\"],[0.5555555555555556,\"#d8576b\"],[0.6666666666666666,\"#ed7953\"],[0.7777777777777778,\"#fb9f3a\"],[0.8888888888888888,\"#fdca26\"],[1.0,\"#f0f921\"]],\"type\":\"histogram2dcontour\"}],\"histogram2d\":[{\"colorbar\":{\"outlinewidth\":0,\"ticks\":\"\"},\"colorscale\":[[0.0,\"#0d0887\"],[0.1111111111111111,\"#46039f\"],[0.2222222222222222,\"#7201a8\"],[0.3333333333333333,\"#9c179e\"],[0.4444444444444444,\"#bd3786\"],[0.5555555555555556,\"#d8576b\"],[0.6666666666666666,\"#ed7953\"],[0.7777777777777778,\"#fb9f3a\"],[0.8888888888888888,\"#fdca26\"],[1.0,\"#f0f921\"]],\"type\":\"histogram2d\"}],\"histogram\":[{\"marker\":{\"pattern\":{\"fillmode\":\"overlay\",\"size\":10,\"solidity\":0.2}},\"type\":\"histogram\"}],\"mesh3d\":[{\"colorbar\":{\"outlinewidth\":0,\"ticks\":\"\"},\"type\":\"mesh3d\"}],\"parcoords\":[{\"line\":{\"colorbar\":{\"outlinewidth\":0,\"ticks\":\"\"}},\"type\":\"parcoords\"}],\"pie\":[{\"automargin\":true,\"type\":\"pie\"}],\"scatter3d\":[{\"line\":{\"colorbar\":{\"outlinewidth\":0,\"ticks\":\"\"}},\"marker\":{\"colorbar\":{\"outlinewidth\":0,\"ticks\":\"\"}},\"type\":\"scatter3d\"}],\"scattercarpet\":[{\"marker\":{\"colorbar\":{\"outlinewidth\":0,\"ticks\":\"\"}},\"type\":\"scattercarpet\"}],\"scattergeo\":[{\"marker\":{\"colorbar\":{\"outlinewidth\":0,\"ticks\":\"\"}},\"type\":\"scattergeo\"}],\"scattergl\":[{\"marker\":{\"colorbar\":{\"outlinewidth\":0,\"ticks\":\"\"}},\"type\":\"scattergl\"}],\"scattermapbox\":[{\"marker\":{\"colorbar\":{\"outlinewidth\":0,\"ticks\":\"\"}},\"type\":\"scattermapbox\"}],\"scatterpolargl\":[{\"marker\":{\"colorbar\":{\"outlinewidth\":0,\"ticks\":\"\"}},\"type\":\"scatterpolargl\"}],\"scatterpolar\":[{\"marker\":{\"colorbar\":{\"outlinewidth\":0,\"ticks\":\"\"}},\"type\":\"scatterpolar\"}],\"scatter\":[{\"fillpattern\":{\"fillmode\":\"overlay\",\"size\":10,\"solidity\":0.2},\"type\":\"scatter\"}],\"scatterternary\":[{\"marker\":{\"colorbar\":{\"outlinewidth\":0,\"ticks\":\"\"}},\"type\":\"scatterternary\"}],\"surface\":[{\"colorbar\":{\"outlinewidth\":0,\"ticks\":\"\"},\"colorscale\":[[0.0,\"#0d0887\"],[0.1111111111111111,\"#46039f\"],[0.2222222222222222,\"#7201a8\"],[0.3333333333333333,\"#9c179e\"],[0.4444444444444444,\"#bd3786\"],[0.5555555555555556,\"#d8576b\"],[0.6666666666666666,\"#ed7953\"],[0.7777777777777778,\"#fb9f3a\"],[0.8888888888888888,\"#fdca26\"],[1.0,\"#f0f921\"]],\"type\":\"surface\"}],\"table\":[{\"cells\":{\"fill\":{\"color\":\"#EBF0F8\"},\"line\":{\"color\":\"white\"}},\"header\":{\"fill\":{\"color\":\"#C8D4E3\"},\"line\":{\"color\":\"white\"}},\"type\":\"table\"}]},\"layout\":{\"annotationdefaults\":{\"arrowcolor\":\"#2a3f5f\",\"arrowhead\":0,\"arrowwidth\":1},\"autotypenumbers\":\"strict\",\"coloraxis\":{\"colorbar\":{\"outlinewidth\":0,\"ticks\":\"\"}},\"colorscale\":{\"diverging\":[[0,\"#8e0152\"],[0.1,\"#c51b7d\"],[0.2,\"#de77ae\"],[0.3,\"#f1b6da\"],[0.4,\"#fde0ef\"],[0.5,\"#f7f7f7\"],[0.6,\"#e6f5d0\"],[0.7,\"#b8e186\"],[0.8,\"#7fbc41\"],[0.9,\"#4d9221\"],[1,\"#276419\"]],\"sequential\":[[0.0,\"#0d0887\"],[0.1111111111111111,\"#46039f\"],[0.2222222222222222,\"#7201a8\"],[0.3333333333333333,\"#9c179e\"],[0.4444444444444444,\"#bd3786\"],[0.5555555555555556,\"#d8576b\"],[0.6666666666666666,\"#ed7953\"],[0.7777777777777778,\"#fb9f3a\"],[0.8888888888888888,\"#fdca26\"],[1.0,\"#f0f921\"]],\"sequentialminus\":[[0.0,\"#0d0887\"],[0.1111111111111111,\"#46039f\"],[0.2222222222222222,\"#7201a8\"],[0.3333333333333333,\"#9c179e\"],[0.4444444444444444,\"#bd3786\"],[0.5555555555555556,\"#d8576b\"],[0.6666666666666666,\"#ed7953\"],[0.7777777777777778,\"#fb9f3a\"],[0.8888888888888888,\"#fdca26\"],[1.0,\"#f0f921\"]]},\"colorway\":[\"#636efa\",\"#EF553B\",\"#00cc96\",\"#ab63fa\",\"#FFA15A\",\"#19d3f3\",\"#FF6692\",\"#B6E880\",\"#FF97FF\",\"#FECB52\"],\"font\":{\"color\":\"#2a3f5f\"},\"geo\":{\"bgcolor\":\"white\",\"lakecolor\":\"white\",\"landcolor\":\"#E5ECF6\",\"showlakes\":true,\"showland\":true,\"subunitcolor\":\"white\"},\"hoverlabel\":{\"align\":\"left\"},\"hovermode\":\"closest\",\"mapbox\":{\"style\":\"light\"},\"paper_bgcolor\":\"white\",\"plot_bgcolor\":\"#E5ECF6\",\"polar\":{\"angularaxis\":{\"gridcolor\":\"white\",\"linecolor\":\"white\",\"ticks\":\"\"},\"bgcolor\":\"#E5ECF6\",\"radialaxis\":{\"gridcolor\":\"white\",\"linecolor\":\"white\",\"ticks\":\"\"}},\"scene\":{\"xaxis\":{\"backgroundcolor\":\"#E5ECF6\",\"gridcolor\":\"white\",\"gridwidth\":2,\"linecolor\":\"white\",\"showbackground\":true,\"ticks\":\"\",\"zerolinecolor\":\"white\"},\"yaxis\":{\"backgroundcolor\":\"#E5ECF6\",\"gridcolor\":\"white\",\"gridwidth\":2,\"linecolor\":\"white\",\"showbackground\":true,\"ticks\":\"\",\"zerolinecolor\":\"white\"},\"zaxis\":{\"backgroundcolor\":\"#E5ECF6\",\"gridcolor\":\"white\",\"gridwidth\":2,\"linecolor\":\"white\",\"showbackground\":true,\"ticks\":\"\",\"zerolinecolor\":\"white\"}},\"shapedefaults\":{\"line\":{\"color\":\"#2a3f5f\"}},\"ternary\":{\"aaxis\":{\"gridcolor\":\"white\",\"linecolor\":\"white\",\"ticks\":\"\"},\"baxis\":{\"gridcolor\":\"white\",\"linecolor\":\"white\",\"ticks\":\"\"},\"bgcolor\":\"#E5ECF6\",\"caxis\":{\"gridcolor\":\"white\",\"linecolor\":\"white\",\"ticks\":\"\"}},\"title\":{\"x\":0.05},\"xaxis\":{\"automargin\":true,\"gridcolor\":\"white\",\"linecolor\":\"white\",\"ticks\":\"\",\"title\":{\"standoff\":15},\"zerolinecolor\":\"white\",\"zerolinewidth\":2},\"yaxis\":{\"automargin\":true,\"gridcolor\":\"white\",\"linecolor\":\"white\",\"ticks\":\"\",\"title\":{\"standoff\":15},\"zerolinecolor\":\"white\",\"zerolinewidth\":2}}},\"title\":{\"text\":\"Count of Outcome variable\"}},                        {\"responsive\": true}                    ).then(function(){\n",
       "                            \n",
       "var gd = document.getElementById('d3c363c1-26a0-4de2-af96-bbf393d93119');\n",
       "var x = new MutationObserver(function (mutations, observer) {{\n",
       "        var display = window.getComputedStyle(gd).display;\n",
       "        if (!display || display === 'none') {{\n",
       "            console.log([gd, 'removed!']);\n",
       "            Plotly.purge(gd);\n",
       "            observer.disconnect();\n",
       "        }}\n",
       "}});\n",
       "\n",
       "// Listen for the removal of the full notebook cells\n",
       "var notebookContainer = gd.closest('#notebook-container');\n",
       "if (notebookContainer) {{\n",
       "    x.observe(notebookContainer, {childList: true});\n",
       "}}\n",
       "\n",
       "// Listen for the clearing of the current output cell\n",
       "var outputEl = gd.closest('.output');\n",
       "if (outputEl) {{\n",
       "    x.observe(outputEl, {childList: true});\n",
       "}}\n",
       "\n",
       "                        })                };                });            </script>        </div>"
      ]
     },
     "metadata": {},
     "output_type": "display_data"
    },
    {
     "data": {
      "application/vnd.plotly.v1+json": {
       "config": {
        "linkText": "Export to plot.ly",
        "plotlyServerURL": "https://plot.ly",
        "showLink": false
       },
       "data": [
        {
         "labels": [
          "healthy",
          "diabetic"
         ],
         "marker": {
          "colors": [
           "lightskyblue",
           "gold"
          ],
          "line": {
           "color": "#000000",
           "width": 1.5
          }
         },
         "opacity": 0.8,
         "textfont": {
          "size": 15
         },
         "type": "pie",
         "values": [
          240351,
          5699
         ]
        }
       ],
       "layout": {
        "template": {
         "data": {
          "bar": [
           {
            "error_x": {
             "color": "#2a3f5f"
            },
            "error_y": {
             "color": "#2a3f5f"
            },
            "marker": {
             "line": {
              "color": "#E5ECF6",
              "width": 0.5
             },
             "pattern": {
              "fillmode": "overlay",
              "size": 10,
              "solidity": 0.2
             }
            },
            "type": "bar"
           }
          ],
          "barpolar": [
           {
            "marker": {
             "line": {
              "color": "#E5ECF6",
              "width": 0.5
             },
             "pattern": {
              "fillmode": "overlay",
              "size": 10,
              "solidity": 0.2
             }
            },
            "type": "barpolar"
           }
          ],
          "carpet": [
           {
            "aaxis": {
             "endlinecolor": "#2a3f5f",
             "gridcolor": "white",
             "linecolor": "white",
             "minorgridcolor": "white",
             "startlinecolor": "#2a3f5f"
            },
            "baxis": {
             "endlinecolor": "#2a3f5f",
             "gridcolor": "white",
             "linecolor": "white",
             "minorgridcolor": "white",
             "startlinecolor": "#2a3f5f"
            },
            "type": "carpet"
           }
          ],
          "choropleth": [
           {
            "colorbar": {
             "outlinewidth": 0,
             "ticks": ""
            },
            "type": "choropleth"
           }
          ],
          "contour": [
           {
            "colorbar": {
             "outlinewidth": 0,
             "ticks": ""
            },
            "colorscale": [
             [
              0,
              "#0d0887"
             ],
             [
              0.1111111111111111,
              "#46039f"
             ],
             [
              0.2222222222222222,
              "#7201a8"
             ],
             [
              0.3333333333333333,
              "#9c179e"
             ],
             [
              0.4444444444444444,
              "#bd3786"
             ],
             [
              0.5555555555555556,
              "#d8576b"
             ],
             [
              0.6666666666666666,
              "#ed7953"
             ],
             [
              0.7777777777777778,
              "#fb9f3a"
             ],
             [
              0.8888888888888888,
              "#fdca26"
             ],
             [
              1,
              "#f0f921"
             ]
            ],
            "type": "contour"
           }
          ],
          "contourcarpet": [
           {
            "colorbar": {
             "outlinewidth": 0,
             "ticks": ""
            },
            "type": "contourcarpet"
           }
          ],
          "heatmap": [
           {
            "colorbar": {
             "outlinewidth": 0,
             "ticks": ""
            },
            "colorscale": [
             [
              0,
              "#0d0887"
             ],
             [
              0.1111111111111111,
              "#46039f"
             ],
             [
              0.2222222222222222,
              "#7201a8"
             ],
             [
              0.3333333333333333,
              "#9c179e"
             ],
             [
              0.4444444444444444,
              "#bd3786"
             ],
             [
              0.5555555555555556,
              "#d8576b"
             ],
             [
              0.6666666666666666,
              "#ed7953"
             ],
             [
              0.7777777777777778,
              "#fb9f3a"
             ],
             [
              0.8888888888888888,
              "#fdca26"
             ],
             [
              1,
              "#f0f921"
             ]
            ],
            "type": "heatmap"
           }
          ],
          "heatmapgl": [
           {
            "colorbar": {
             "outlinewidth": 0,
             "ticks": ""
            },
            "colorscale": [
             [
              0,
              "#0d0887"
             ],
             [
              0.1111111111111111,
              "#46039f"
             ],
             [
              0.2222222222222222,
              "#7201a8"
             ],
             [
              0.3333333333333333,
              "#9c179e"
             ],
             [
              0.4444444444444444,
              "#bd3786"
             ],
             [
              0.5555555555555556,
              "#d8576b"
             ],
             [
              0.6666666666666666,
              "#ed7953"
             ],
             [
              0.7777777777777778,
              "#fb9f3a"
             ],
             [
              0.8888888888888888,
              "#fdca26"
             ],
             [
              1,
              "#f0f921"
             ]
            ],
            "type": "heatmapgl"
           }
          ],
          "histogram": [
           {
            "marker": {
             "pattern": {
              "fillmode": "overlay",
              "size": 10,
              "solidity": 0.2
             }
            },
            "type": "histogram"
           }
          ],
          "histogram2d": [
           {
            "colorbar": {
             "outlinewidth": 0,
             "ticks": ""
            },
            "colorscale": [
             [
              0,
              "#0d0887"
             ],
             [
              0.1111111111111111,
              "#46039f"
             ],
             [
              0.2222222222222222,
              "#7201a8"
             ],
             [
              0.3333333333333333,
              "#9c179e"
             ],
             [
              0.4444444444444444,
              "#bd3786"
             ],
             [
              0.5555555555555556,
              "#d8576b"
             ],
             [
              0.6666666666666666,
              "#ed7953"
             ],
             [
              0.7777777777777778,
              "#fb9f3a"
             ],
             [
              0.8888888888888888,
              "#fdca26"
             ],
             [
              1,
              "#f0f921"
             ]
            ],
            "type": "histogram2d"
           }
          ],
          "histogram2dcontour": [
           {
            "colorbar": {
             "outlinewidth": 0,
             "ticks": ""
            },
            "colorscale": [
             [
              0,
              "#0d0887"
             ],
             [
              0.1111111111111111,
              "#46039f"
             ],
             [
              0.2222222222222222,
              "#7201a8"
             ],
             [
              0.3333333333333333,
              "#9c179e"
             ],
             [
              0.4444444444444444,
              "#bd3786"
             ],
             [
              0.5555555555555556,
              "#d8576b"
             ],
             [
              0.6666666666666666,
              "#ed7953"
             ],
             [
              0.7777777777777778,
              "#fb9f3a"
             ],
             [
              0.8888888888888888,
              "#fdca26"
             ],
             [
              1,
              "#f0f921"
             ]
            ],
            "type": "histogram2dcontour"
           }
          ],
          "mesh3d": [
           {
            "colorbar": {
             "outlinewidth": 0,
             "ticks": ""
            },
            "type": "mesh3d"
           }
          ],
          "parcoords": [
           {
            "line": {
             "colorbar": {
              "outlinewidth": 0,
              "ticks": ""
             }
            },
            "type": "parcoords"
           }
          ],
          "pie": [
           {
            "automargin": true,
            "type": "pie"
           }
          ],
          "scatter": [
           {
            "fillpattern": {
             "fillmode": "overlay",
             "size": 10,
             "solidity": 0.2
            },
            "type": "scatter"
           }
          ],
          "scatter3d": [
           {
            "line": {
             "colorbar": {
              "outlinewidth": 0,
              "ticks": ""
             }
            },
            "marker": {
             "colorbar": {
              "outlinewidth": 0,
              "ticks": ""
             }
            },
            "type": "scatter3d"
           }
          ],
          "scattercarpet": [
           {
            "marker": {
             "colorbar": {
              "outlinewidth": 0,
              "ticks": ""
             }
            },
            "type": "scattercarpet"
           }
          ],
          "scattergeo": [
           {
            "marker": {
             "colorbar": {
              "outlinewidth": 0,
              "ticks": ""
             }
            },
            "type": "scattergeo"
           }
          ],
          "scattergl": [
           {
            "marker": {
             "colorbar": {
              "outlinewidth": 0,
              "ticks": ""
             }
            },
            "type": "scattergl"
           }
          ],
          "scattermapbox": [
           {
            "marker": {
             "colorbar": {
              "outlinewidth": 0,
              "ticks": ""
             }
            },
            "type": "scattermapbox"
           }
          ],
          "scatterpolar": [
           {
            "marker": {
             "colorbar": {
              "outlinewidth": 0,
              "ticks": ""
             }
            },
            "type": "scatterpolar"
           }
          ],
          "scatterpolargl": [
           {
            "marker": {
             "colorbar": {
              "outlinewidth": 0,
              "ticks": ""
             }
            },
            "type": "scatterpolargl"
           }
          ],
          "scatterternary": [
           {
            "marker": {
             "colorbar": {
              "outlinewidth": 0,
              "ticks": ""
             }
            },
            "type": "scatterternary"
           }
          ],
          "surface": [
           {
            "colorbar": {
             "outlinewidth": 0,
             "ticks": ""
            },
            "colorscale": [
             [
              0,
              "#0d0887"
             ],
             [
              0.1111111111111111,
              "#46039f"
             ],
             [
              0.2222222222222222,
              "#7201a8"
             ],
             [
              0.3333333333333333,
              "#9c179e"
             ],
             [
              0.4444444444444444,
              "#bd3786"
             ],
             [
              0.5555555555555556,
              "#d8576b"
             ],
             [
              0.6666666666666666,
              "#ed7953"
             ],
             [
              0.7777777777777778,
              "#fb9f3a"
             ],
             [
              0.8888888888888888,
              "#fdca26"
             ],
             [
              1,
              "#f0f921"
             ]
            ],
            "type": "surface"
           }
          ],
          "table": [
           {
            "cells": {
             "fill": {
              "color": "#EBF0F8"
             },
             "line": {
              "color": "white"
             }
            },
            "header": {
             "fill": {
              "color": "#C8D4E3"
             },
             "line": {
              "color": "white"
             }
            },
            "type": "table"
           }
          ]
         },
         "layout": {
          "annotationdefaults": {
           "arrowcolor": "#2a3f5f",
           "arrowhead": 0,
           "arrowwidth": 1
          },
          "autotypenumbers": "strict",
          "coloraxis": {
           "colorbar": {
            "outlinewidth": 0,
            "ticks": ""
           }
          },
          "colorscale": {
           "diverging": [
            [
             0,
             "#8e0152"
            ],
            [
             0.1,
             "#c51b7d"
            ],
            [
             0.2,
             "#de77ae"
            ],
            [
             0.3,
             "#f1b6da"
            ],
            [
             0.4,
             "#fde0ef"
            ],
            [
             0.5,
             "#f7f7f7"
            ],
            [
             0.6,
             "#e6f5d0"
            ],
            [
             0.7,
             "#b8e186"
            ],
            [
             0.8,
             "#7fbc41"
            ],
            [
             0.9,
             "#4d9221"
            ],
            [
             1,
             "#276419"
            ]
           ],
           "sequential": [
            [
             0,
             "#0d0887"
            ],
            [
             0.1111111111111111,
             "#46039f"
            ],
            [
             0.2222222222222222,
             "#7201a8"
            ],
            [
             0.3333333333333333,
             "#9c179e"
            ],
            [
             0.4444444444444444,
             "#bd3786"
            ],
            [
             0.5555555555555556,
             "#d8576b"
            ],
            [
             0.6666666666666666,
             "#ed7953"
            ],
            [
             0.7777777777777778,
             "#fb9f3a"
            ],
            [
             0.8888888888888888,
             "#fdca26"
            ],
            [
             1,
             "#f0f921"
            ]
           ],
           "sequentialminus": [
            [
             0,
             "#0d0887"
            ],
            [
             0.1111111111111111,
             "#46039f"
            ],
            [
             0.2222222222222222,
             "#7201a8"
            ],
            [
             0.3333333333333333,
             "#9c179e"
            ],
            [
             0.4444444444444444,
             "#bd3786"
            ],
            [
             0.5555555555555556,
             "#d8576b"
            ],
            [
             0.6666666666666666,
             "#ed7953"
            ],
            [
             0.7777777777777778,
             "#fb9f3a"
            ],
            [
             0.8888888888888888,
             "#fdca26"
            ],
            [
             1,
             "#f0f921"
            ]
           ]
          },
          "colorway": [
           "#636efa",
           "#EF553B",
           "#00cc96",
           "#ab63fa",
           "#FFA15A",
           "#19d3f3",
           "#FF6692",
           "#B6E880",
           "#FF97FF",
           "#FECB52"
          ],
          "font": {
           "color": "#2a3f5f"
          },
          "geo": {
           "bgcolor": "white",
           "lakecolor": "white",
           "landcolor": "#E5ECF6",
           "showlakes": true,
           "showland": true,
           "subunitcolor": "white"
          },
          "hoverlabel": {
           "align": "left"
          },
          "hovermode": "closest",
          "mapbox": {
           "style": "light"
          },
          "paper_bgcolor": "white",
          "plot_bgcolor": "#E5ECF6",
          "polar": {
           "angularaxis": {
            "gridcolor": "white",
            "linecolor": "white",
            "ticks": ""
           },
           "bgcolor": "#E5ECF6",
           "radialaxis": {
            "gridcolor": "white",
            "linecolor": "white",
            "ticks": ""
           }
          },
          "scene": {
           "xaxis": {
            "backgroundcolor": "#E5ECF6",
            "gridcolor": "white",
            "gridwidth": 2,
            "linecolor": "white",
            "showbackground": true,
            "ticks": "",
            "zerolinecolor": "white"
           },
           "yaxis": {
            "backgroundcolor": "#E5ECF6",
            "gridcolor": "white",
            "gridwidth": 2,
            "linecolor": "white",
            "showbackground": true,
            "ticks": "",
            "zerolinecolor": "white"
           },
           "zaxis": {
            "backgroundcolor": "#E5ECF6",
            "gridcolor": "white",
            "gridwidth": 2,
            "linecolor": "white",
            "showbackground": true,
            "ticks": "",
            "zerolinecolor": "white"
           }
          },
          "shapedefaults": {
           "line": {
            "color": "#2a3f5f"
           }
          },
          "ternary": {
           "aaxis": {
            "gridcolor": "white",
            "linecolor": "white",
            "ticks": ""
           },
           "baxis": {
            "gridcolor": "white",
            "linecolor": "white",
            "ticks": ""
           },
           "bgcolor": "#E5ECF6",
           "caxis": {
            "gridcolor": "white",
            "linecolor": "white",
            "ticks": ""
           }
          },
          "title": {
           "x": 0.05
          },
          "xaxis": {
           "automargin": true,
           "gridcolor": "white",
           "linecolor": "white",
           "ticks": "",
           "title": {
            "standoff": 15
           },
           "zerolinecolor": "white",
           "zerolinewidth": 2
          },
          "yaxis": {
           "automargin": true,
           "gridcolor": "white",
           "linecolor": "white",
           "ticks": "",
           "title": {
            "standoff": 15
           },
           "zerolinecolor": "white",
           "zerolinewidth": 2
          }
         }
        },
        "title": {
         "text": "Distribution of Outcome variable"
        }
       }
      },
      "text/html": [
       "<div>                            <div id=\"e16d2530-9a29-4f96-a59a-85165b406707\" class=\"plotly-graph-div\" style=\"height:525px; width:100%;\"></div>            <script type=\"text/javascript\">                require([\"plotly\"], function(Plotly) {                    window.PLOTLYENV=window.PLOTLYENV || {};                                    if (document.getElementById(\"e16d2530-9a29-4f96-a59a-85165b406707\")) {                    Plotly.newPlot(                        \"e16d2530-9a29-4f96-a59a-85165b406707\",                        [{\"labels\":[\"healthy\",\"diabetic\"],\"marker\":{\"colors\":[\"lightskyblue\",\"gold\"],\"line\":{\"color\":\"#000000\",\"width\":1.5}},\"opacity\":0.8,\"textfont\":{\"size\":15},\"values\":[240351,5699],\"type\":\"pie\"}],                        {\"template\":{\"data\":{\"barpolar\":[{\"marker\":{\"line\":{\"color\":\"#E5ECF6\",\"width\":0.5},\"pattern\":{\"fillmode\":\"overlay\",\"size\":10,\"solidity\":0.2}},\"type\":\"barpolar\"}],\"bar\":[{\"error_x\":{\"color\":\"#2a3f5f\"},\"error_y\":{\"color\":\"#2a3f5f\"},\"marker\":{\"line\":{\"color\":\"#E5ECF6\",\"width\":0.5},\"pattern\":{\"fillmode\":\"overlay\",\"size\":10,\"solidity\":0.2}},\"type\":\"bar\"}],\"carpet\":[{\"aaxis\":{\"endlinecolor\":\"#2a3f5f\",\"gridcolor\":\"white\",\"linecolor\":\"white\",\"minorgridcolor\":\"white\",\"startlinecolor\":\"#2a3f5f\"},\"baxis\":{\"endlinecolor\":\"#2a3f5f\",\"gridcolor\":\"white\",\"linecolor\":\"white\",\"minorgridcolor\":\"white\",\"startlinecolor\":\"#2a3f5f\"},\"type\":\"carpet\"}],\"choropleth\":[{\"colorbar\":{\"outlinewidth\":0,\"ticks\":\"\"},\"type\":\"choropleth\"}],\"contourcarpet\":[{\"colorbar\":{\"outlinewidth\":0,\"ticks\":\"\"},\"type\":\"contourcarpet\"}],\"contour\":[{\"colorbar\":{\"outlinewidth\":0,\"ticks\":\"\"},\"colorscale\":[[0.0,\"#0d0887\"],[0.1111111111111111,\"#46039f\"],[0.2222222222222222,\"#7201a8\"],[0.3333333333333333,\"#9c179e\"],[0.4444444444444444,\"#bd3786\"],[0.5555555555555556,\"#d8576b\"],[0.6666666666666666,\"#ed7953\"],[0.7777777777777778,\"#fb9f3a\"],[0.8888888888888888,\"#fdca26\"],[1.0,\"#f0f921\"]],\"type\":\"contour\"}],\"heatmapgl\":[{\"colorbar\":{\"outlinewidth\":0,\"ticks\":\"\"},\"colorscale\":[[0.0,\"#0d0887\"],[0.1111111111111111,\"#46039f\"],[0.2222222222222222,\"#7201a8\"],[0.3333333333333333,\"#9c179e\"],[0.4444444444444444,\"#bd3786\"],[0.5555555555555556,\"#d8576b\"],[0.6666666666666666,\"#ed7953\"],[0.7777777777777778,\"#fb9f3a\"],[0.8888888888888888,\"#fdca26\"],[1.0,\"#f0f921\"]],\"type\":\"heatmapgl\"}],\"heatmap\":[{\"colorbar\":{\"outlinewidth\":0,\"ticks\":\"\"},\"colorscale\":[[0.0,\"#0d0887\"],[0.1111111111111111,\"#46039f\"],[0.2222222222222222,\"#7201a8\"],[0.3333333333333333,\"#9c179e\"],[0.4444444444444444,\"#bd3786\"],[0.5555555555555556,\"#d8576b\"],[0.6666666666666666,\"#ed7953\"],[0.7777777777777778,\"#fb9f3a\"],[0.8888888888888888,\"#fdca26\"],[1.0,\"#f0f921\"]],\"type\":\"heatmap\"}],\"histogram2dcontour\":[{\"colorbar\":{\"outlinewidth\":0,\"ticks\":\"\"},\"colorscale\":[[0.0,\"#0d0887\"],[0.1111111111111111,\"#46039f\"],[0.2222222222222222,\"#7201a8\"],[0.3333333333333333,\"#9c179e\"],[0.4444444444444444,\"#bd3786\"],[0.5555555555555556,\"#d8576b\"],[0.6666666666666666,\"#ed7953\"],[0.7777777777777778,\"#fb9f3a\"],[0.8888888888888888,\"#fdca26\"],[1.0,\"#f0f921\"]],\"type\":\"histogram2dcontour\"}],\"histogram2d\":[{\"colorbar\":{\"outlinewidth\":0,\"ticks\":\"\"},\"colorscale\":[[0.0,\"#0d0887\"],[0.1111111111111111,\"#46039f\"],[0.2222222222222222,\"#7201a8\"],[0.3333333333333333,\"#9c179e\"],[0.4444444444444444,\"#bd3786\"],[0.5555555555555556,\"#d8576b\"],[0.6666666666666666,\"#ed7953\"],[0.7777777777777778,\"#fb9f3a\"],[0.8888888888888888,\"#fdca26\"],[1.0,\"#f0f921\"]],\"type\":\"histogram2d\"}],\"histogram\":[{\"marker\":{\"pattern\":{\"fillmode\":\"overlay\",\"size\":10,\"solidity\":0.2}},\"type\":\"histogram\"}],\"mesh3d\":[{\"colorbar\":{\"outlinewidth\":0,\"ticks\":\"\"},\"type\":\"mesh3d\"}],\"parcoords\":[{\"line\":{\"colorbar\":{\"outlinewidth\":0,\"ticks\":\"\"}},\"type\":\"parcoords\"}],\"pie\":[{\"automargin\":true,\"type\":\"pie\"}],\"scatter3d\":[{\"line\":{\"colorbar\":{\"outlinewidth\":0,\"ticks\":\"\"}},\"marker\":{\"colorbar\":{\"outlinewidth\":0,\"ticks\":\"\"}},\"type\":\"scatter3d\"}],\"scattercarpet\":[{\"marker\":{\"colorbar\":{\"outlinewidth\":0,\"ticks\":\"\"}},\"type\":\"scattercarpet\"}],\"scattergeo\":[{\"marker\":{\"colorbar\":{\"outlinewidth\":0,\"ticks\":\"\"}},\"type\":\"scattergeo\"}],\"scattergl\":[{\"marker\":{\"colorbar\":{\"outlinewidth\":0,\"ticks\":\"\"}},\"type\":\"scattergl\"}],\"scattermapbox\":[{\"marker\":{\"colorbar\":{\"outlinewidth\":0,\"ticks\":\"\"}},\"type\":\"scattermapbox\"}],\"scatterpolargl\":[{\"marker\":{\"colorbar\":{\"outlinewidth\":0,\"ticks\":\"\"}},\"type\":\"scatterpolargl\"}],\"scatterpolar\":[{\"marker\":{\"colorbar\":{\"outlinewidth\":0,\"ticks\":\"\"}},\"type\":\"scatterpolar\"}],\"scatter\":[{\"fillpattern\":{\"fillmode\":\"overlay\",\"size\":10,\"solidity\":0.2},\"type\":\"scatter\"}],\"scatterternary\":[{\"marker\":{\"colorbar\":{\"outlinewidth\":0,\"ticks\":\"\"}},\"type\":\"scatterternary\"}],\"surface\":[{\"colorbar\":{\"outlinewidth\":0,\"ticks\":\"\"},\"colorscale\":[[0.0,\"#0d0887\"],[0.1111111111111111,\"#46039f\"],[0.2222222222222222,\"#7201a8\"],[0.3333333333333333,\"#9c179e\"],[0.4444444444444444,\"#bd3786\"],[0.5555555555555556,\"#d8576b\"],[0.6666666666666666,\"#ed7953\"],[0.7777777777777778,\"#fb9f3a\"],[0.8888888888888888,\"#fdca26\"],[1.0,\"#f0f921\"]],\"type\":\"surface\"}],\"table\":[{\"cells\":{\"fill\":{\"color\":\"#EBF0F8\"},\"line\":{\"color\":\"white\"}},\"header\":{\"fill\":{\"color\":\"#C8D4E3\"},\"line\":{\"color\":\"white\"}},\"type\":\"table\"}]},\"layout\":{\"annotationdefaults\":{\"arrowcolor\":\"#2a3f5f\",\"arrowhead\":0,\"arrowwidth\":1},\"autotypenumbers\":\"strict\",\"coloraxis\":{\"colorbar\":{\"outlinewidth\":0,\"ticks\":\"\"}},\"colorscale\":{\"diverging\":[[0,\"#8e0152\"],[0.1,\"#c51b7d\"],[0.2,\"#de77ae\"],[0.3,\"#f1b6da\"],[0.4,\"#fde0ef\"],[0.5,\"#f7f7f7\"],[0.6,\"#e6f5d0\"],[0.7,\"#b8e186\"],[0.8,\"#7fbc41\"],[0.9,\"#4d9221\"],[1,\"#276419\"]],\"sequential\":[[0.0,\"#0d0887\"],[0.1111111111111111,\"#46039f\"],[0.2222222222222222,\"#7201a8\"],[0.3333333333333333,\"#9c179e\"],[0.4444444444444444,\"#bd3786\"],[0.5555555555555556,\"#d8576b\"],[0.6666666666666666,\"#ed7953\"],[0.7777777777777778,\"#fb9f3a\"],[0.8888888888888888,\"#fdca26\"],[1.0,\"#f0f921\"]],\"sequentialminus\":[[0.0,\"#0d0887\"],[0.1111111111111111,\"#46039f\"],[0.2222222222222222,\"#7201a8\"],[0.3333333333333333,\"#9c179e\"],[0.4444444444444444,\"#bd3786\"],[0.5555555555555556,\"#d8576b\"],[0.6666666666666666,\"#ed7953\"],[0.7777777777777778,\"#fb9f3a\"],[0.8888888888888888,\"#fdca26\"],[1.0,\"#f0f921\"]]},\"colorway\":[\"#636efa\",\"#EF553B\",\"#00cc96\",\"#ab63fa\",\"#FFA15A\",\"#19d3f3\",\"#FF6692\",\"#B6E880\",\"#FF97FF\",\"#FECB52\"],\"font\":{\"color\":\"#2a3f5f\"},\"geo\":{\"bgcolor\":\"white\",\"lakecolor\":\"white\",\"landcolor\":\"#E5ECF6\",\"showlakes\":true,\"showland\":true,\"subunitcolor\":\"white\"},\"hoverlabel\":{\"align\":\"left\"},\"hovermode\":\"closest\",\"mapbox\":{\"style\":\"light\"},\"paper_bgcolor\":\"white\",\"plot_bgcolor\":\"#E5ECF6\",\"polar\":{\"angularaxis\":{\"gridcolor\":\"white\",\"linecolor\":\"white\",\"ticks\":\"\"},\"bgcolor\":\"#E5ECF6\",\"radialaxis\":{\"gridcolor\":\"white\",\"linecolor\":\"white\",\"ticks\":\"\"}},\"scene\":{\"xaxis\":{\"backgroundcolor\":\"#E5ECF6\",\"gridcolor\":\"white\",\"gridwidth\":2,\"linecolor\":\"white\",\"showbackground\":true,\"ticks\":\"\",\"zerolinecolor\":\"white\"},\"yaxis\":{\"backgroundcolor\":\"#E5ECF6\",\"gridcolor\":\"white\",\"gridwidth\":2,\"linecolor\":\"white\",\"showbackground\":true,\"ticks\":\"\",\"zerolinecolor\":\"white\"},\"zaxis\":{\"backgroundcolor\":\"#E5ECF6\",\"gridcolor\":\"white\",\"gridwidth\":2,\"linecolor\":\"white\",\"showbackground\":true,\"ticks\":\"\",\"zerolinecolor\":\"white\"}},\"shapedefaults\":{\"line\":{\"color\":\"#2a3f5f\"}},\"ternary\":{\"aaxis\":{\"gridcolor\":\"white\",\"linecolor\":\"white\",\"ticks\":\"\"},\"baxis\":{\"gridcolor\":\"white\",\"linecolor\":\"white\",\"ticks\":\"\"},\"bgcolor\":\"#E5ECF6\",\"caxis\":{\"gridcolor\":\"white\",\"linecolor\":\"white\",\"ticks\":\"\"}},\"title\":{\"x\":0.05},\"xaxis\":{\"automargin\":true,\"gridcolor\":\"white\",\"linecolor\":\"white\",\"ticks\":\"\",\"title\":{\"standoff\":15},\"zerolinecolor\":\"white\",\"zerolinewidth\":2},\"yaxis\":{\"automargin\":true,\"gridcolor\":\"white\",\"linecolor\":\"white\",\"ticks\":\"\",\"title\":{\"standoff\":15},\"zerolinecolor\":\"white\",\"zerolinewidth\":2}}},\"title\":{\"text\":\"Distribution of Outcome variable\"}},                        {\"responsive\": true}                    ).then(function(){\n",
       "                            \n",
       "var gd = document.getElementById('e16d2530-9a29-4f96-a59a-85165b406707');\n",
       "var x = new MutationObserver(function (mutations, observer) {{\n",
       "        var display = window.getComputedStyle(gd).display;\n",
       "        if (!display || display === 'none') {{\n",
       "            console.log([gd, 'removed!']);\n",
       "            Plotly.purge(gd);\n",
       "            observer.disconnect();\n",
       "        }}\n",
       "}});\n",
       "\n",
       "// Listen for the removal of the full notebook cells\n",
       "var notebookContainer = gd.closest('#notebook-container');\n",
       "if (notebookContainer) {{\n",
       "    x.observe(notebookContainer, {childList: true});\n",
       "}}\n",
       "\n",
       "// Listen for the clearing of the current output cell\n",
       "var outputEl = gd.closest('.output');\n",
       "if (outputEl) {{\n",
       "    x.observe(outputEl, {childList: true});\n",
       "}}\n",
       "\n",
       "                        })                };                });            </script>        </div>"
      ]
     },
     "metadata": {},
     "output_type": "display_data"
    }
   ],
   "source": [
    "target_count()\n",
    "target_percent()"
   ]
  },
  {
   "cell_type": "markdown",
   "id": "81f84634",
   "metadata": {},
   "source": [
    "### <b>I<span style='color:#16C2D5'>|</span> Histogram for all Colounm</b> "
   ]
  },
  {
   "cell_type": "code",
   "execution_count": 80,
   "id": "939dc782",
   "metadata": {
    "scrolled": true
   },
   "outputs": [
    {
     "data": {
      "image/png": "[encoded data removed]",
      "text/plain": [
       "<Figure size 1800x1200 with 20 Axes>"
      ]
     },
     "metadata": {},
     "output_type": "display_data"
    }
   ],
   "source": [
    "data.hist(figsize=(18,12))\n",
    "plt.show()\n",
    "fig.savefig('image/his_Univariate.png')"
   ]
  },
  {
   "cell_type": "code",
   "execution_count": 79,
   "id": "d1309d0e",
   "metadata": {
    "scrolled": true
   },
   "outputs": [
    {
     "data": {
      "image/png": "[encoded data removed]",
      "text/plain": [
       "<Figure size 1100x1500 with 1 Axes>"
      ]
     },
     "metadata": {},
     "output_type": "display_data"
    }
   ],
   "source": [
    "plt.style.use('ggplot') # Using ggplot2 style visuals \n",
    "\n",
    "f, ax = plt.subplots(figsize=(11, 15))\n",
    "\n",
    "ax.set_facecolor('#fafafa')\n",
    "ax.set(xlim=(-.05, 200))\n",
    "plt.ylabel('Variables')\n",
    "plt.title(\"Overview Data Set\")\n",
    "ax = sns.boxplot(data = data, \n",
    "  orient = 'h', \n",
    "  palette = 'Set2')\n",
    "fig.savefig('image/box_Univariate.png')"
   ]
  },
  {
   "cell_type": "code",
   "execution_count": 78,
   "id": "82d7a62f",
   "metadata": {},
   "outputs": [
    {
     "data": {
      "image/png": "[encoded data removed]",
      "text/plain": [
       "<Figure size 640x480 with 1 Axes>"
      ]
     },
     "metadata": {},
     "output_type": "display_data"
    }
   ],
   "source": [
    "selected_column = 'DIABETES'\n",
    "y = data[selected_column]\n",
    "X_df = data.drop(columns=['DIABETES'])\n",
    "encoder = ce.LeaveOneOutEncoder(return_df=True)\n",
    "X = encoder.fit_transform(X_df, y)\n",
    "importances = mutual_info_classif(X,y)\n",
    "feat_importances = pd.Series(importances, data.columns[0:len(data.columns)-1])\n",
    "feat_importances.plot(kind='barh', color = 'teal')\n",
    "fig.savefig('image/Features_info.png')\n",
    "plt.show()"
   ]
  },
  {
   "cell_type": "code",
   "execution_count": 21,
   "id": "c7a40b08",
   "metadata": {},
   "outputs": [
    {
     "data": {
      "text/plain": [
       "(246050, 23)"
      ]
     },
     "execution_count": 21,
     "metadata": {},
     "output_type": "execute_result"
    }
   ],
   "source": [
    "X.shape"
   ]
  },
  {
   "cell_type": "code",
   "execution_count": 71,
   "id": "aa7ecb5a",
   "metadata": {},
   "outputs": [
    {
     "data": {
      "text/plain": [
       "(246050, 10)"
      ]
     },
     "execution_count": 71,
     "metadata": {},
     "output_type": "execute_result"
    }
   ],
   "source": [
    "selector = SelectKBest(mutual_info_classif, k=10)\n",
    "X_reduced = selector.fit_transform(X, y)\n",
    "X_reduced.shape"
   ]
  },
  {
   "cell_type": "code",
   "execution_count": 72,
   "id": "28cf0043",
   "metadata": {},
   "outputs": [
    {
     "data": {
      "text/plain": [
       "['GENDER',\n",
       " 'BMI',\n",
       " 'RACE',\n",
       " 'EXERCISE',\n",
       " 'SLEEP',\n",
       " 'PERSONAL_DOC',\n",
       " 'CHECKUP1',\n",
       " 'ARTHRITIS',\n",
       " '_SMOKER3',\n",
       " 'EDUCATION']"
      ]
     },
     "execution_count": 72,
     "metadata": {},
     "output_type": "execute_result"
    }
   ],
   "source": [
    "cols = selector.get_support(indices=True)\n",
    "selected_columns = X.iloc[:,cols].columns.tolist()\n",
    "selected_columns"
   ]
  },
  {
   "cell_type": "markdown",
   "id": "41fe7900",
   "metadata": {},
   "source": [
    "## <span style='color:black'> Multivariate analysis</span></b> </div>"
   ]
  },
  {
   "cell_type": "code",
   "execution_count": null,
   "id": "3ed62ec9",
   "metadata": {},
   "outputs": [],
   "source": [
    "# Correlation Coefficient"
   ]
  },
  {
   "cell_type": "code",
   "execution_count": 24,
   "id": "7fa4a6aa",
   "metadata": {},
   "outputs": [
    {
     "data": {
      "text/html": [
       "<div>\n",
       "<style scoped>\n",
       "    .dataframe tbody tr th:only-of-type {\n",
       "        vertical-align: middle;\n",
       "    }\n",
       "\n",
       "    .dataframe tbody tr th {\n",
       "        vertical-align: top;\n",
       "    }\n",
       "\n",
       "    .dataframe thead th {\n",
       "        text-align: right;\n",
       "    }\n",
       "</style>\n",
       "<table border=\"1\" class=\"dataframe\">\n",
       "  <thead>\n",
       "    <tr style=\"text-align: right;\">\n",
       "      <th></th>\n",
       "      <th>ID</th>\n",
       "      <th>STATE</th>\n",
       "      <th>INCOME</th>\n",
       "      <th>WEIGHT</th>\n",
       "      <th>AGE</th>\n",
       "      <th>DIABETES</th>\n",
       "      <th>PHYSHLTH</th>\n",
       "      <th>MENTHLTH</th>\n",
       "      <th>EXERCISE</th>\n",
       "      <th>SLEEP</th>\n",
       "      <th>HLT_INSURANCE</th>\n",
       "      <th>PERSONAL_DOC</th>\n",
       "      <th>CHECKUP1</th>\n",
       "      <th>HRT_ATTACK</th>\n",
       "      <th>HRT_DISEASE</th>\n",
       "      <th>STROKE</th>\n",
       "      <th>ARTHRITIS</th>\n",
       "      <th>DIFFWALK</th>\n",
       "      <th>HEIGHT</th>\n",
       "    </tr>\n",
       "  </thead>\n",
       "  <tbody>\n",
       "    <tr>\n",
       "      <th>ID</th>\n",
       "      <td>1.000000</td>\n",
       "      <td>0.990212</td>\n",
       "      <td>-0.023073</td>\n",
       "      <td>0.011744</td>\n",
       "      <td>-0.010641</td>\n",
       "      <td>-0.007067</td>\n",
       "      <td>0.004549</td>\n",
       "      <td>0.001510</td>\n",
       "      <td>-0.001686</td>\n",
       "      <td>0.004026</td>\n",
       "      <td>-0.009596</td>\n",
       "      <td>-0.020202</td>\n",
       "      <td>0.005484</td>\n",
       "      <td>-0.002947</td>\n",
       "      <td>-0.003596</td>\n",
       "      <td>-0.008989</td>\n",
       "      <td>0.001888</td>\n",
       "      <td>0.004619</td>\n",
       "      <td>-0.002494</td>\n",
       "    </tr>\n",
       "    <tr>\n",
       "      <th>STATE</th>\n",
       "      <td>0.990212</td>\n",
       "      <td>1.000000</td>\n",
       "      <td>-0.042704</td>\n",
       "      <td>0.005528</td>\n",
       "      <td>-0.006149</td>\n",
       "      <td>-0.010666</td>\n",
       "      <td>0.005249</td>\n",
       "      <td>-0.001189</td>\n",
       "      <td>-0.009997</td>\n",
       "      <td>0.002102</td>\n",
       "      <td>-0.004428</td>\n",
       "      <td>-0.022880</td>\n",
       "      <td>0.001482</td>\n",
       "      <td>-0.002591</td>\n",
       "      <td>-0.003348</td>\n",
       "      <td>-0.008959</td>\n",
       "      <td>0.001485</td>\n",
       "      <td>0.009918</td>\n",
       "      <td>-0.013220</td>\n",
       "    </tr>\n",
       "    <tr>\n",
       "      <th>INCOME</th>\n",
       "      <td>-0.023073</td>\n",
       "      <td>-0.042704</td>\n",
       "      <td>1.000000</td>\n",
       "      <td>0.029914</td>\n",
       "      <td>-0.102743</td>\n",
       "      <td>0.049554</td>\n",
       "      <td>-0.228015</td>\n",
       "      <td>-0.167611</td>\n",
       "      <td>0.230887</td>\n",
       "      <td>0.006769</td>\n",
       "      <td>-0.289473</td>\n",
       "      <td>0.056653</td>\n",
       "      <td>-0.003395</td>\n",
       "      <td>-0.108280</td>\n",
       "      <td>-0.083162</td>\n",
       "      <td>-0.115410</td>\n",
       "      <td>-0.153600</td>\n",
       "      <td>-0.288290</td>\n",
       "      <td>0.181358</td>\n",
       "    </tr>\n",
       "    <tr>\n",
       "      <th>WEIGHT</th>\n",
       "      <td>0.011744</td>\n",
       "      <td>0.005528</td>\n",
       "      <td>0.029914</td>\n",
       "      <td>1.000000</td>\n",
       "      <td>-0.073103</td>\n",
       "      <td>-0.044344</td>\n",
       "      <td>0.076954</td>\n",
       "      <td>0.041171</td>\n",
       "      <td>-0.095673</td>\n",
       "      <td>-0.054642</td>\n",
       "      <td>-0.007700</td>\n",
       "      <td>0.005484</td>\n",
       "      <td>-0.010297</td>\n",
       "      <td>0.037218</td>\n",
       "      <td>0.045369</td>\n",
       "      <td>0.004563</td>\n",
       "      <td>0.066257</td>\n",
       "      <td>0.118718</td>\n",
       "      <td>0.471620</td>\n",
       "    </tr>\n",
       "    <tr>\n",
       "      <th>AGE</th>\n",
       "      <td>-0.010641</td>\n",
       "      <td>-0.006149</td>\n",
       "      <td>-0.102743</td>\n",
       "      <td>-0.073103</td>\n",
       "      <td>1.000000</td>\n",
       "      <td>-0.043563</td>\n",
       "      <td>0.092766</td>\n",
       "      <td>-0.187221</td>\n",
       "      <td>-0.113140</td>\n",
       "      <td>0.128044</td>\n",
       "      <td>0.162535</td>\n",
       "      <td>0.196398</td>\n",
       "      <td>-0.233628</td>\n",
       "      <td>0.175574</td>\n",
       "      <td>0.204598</td>\n",
       "      <td>0.135233</td>\n",
       "      <td>0.380859</td>\n",
       "      <td>0.238841</td>\n",
       "      <td>-0.102505</td>\n",
       "    </tr>\n",
       "    <tr>\n",
       "      <th>DIABETES</th>\n",
       "      <td>-0.007067</td>\n",
       "      <td>-0.010666</td>\n",
       "      <td>0.049554</td>\n",
       "      <td>-0.044344</td>\n",
       "      <td>-0.043563</td>\n",
       "      <td>1.000000</td>\n",
       "      <td>-0.031444</td>\n",
       "      <td>-0.014867</td>\n",
       "      <td>0.022281</td>\n",
       "      <td>0.009830</td>\n",
       "      <td>-0.027551</td>\n",
       "      <td>-0.015775</td>\n",
       "      <td>0.030687</td>\n",
       "      <td>-0.012671</td>\n",
       "      <td>-0.015229</td>\n",
       "      <td>-0.007728</td>\n",
       "      <td>-0.042416</td>\n",
       "      <td>-0.040495</td>\n",
       "      <td>0.021630</td>\n",
       "    </tr>\n",
       "    <tr>\n",
       "      <th>PHYSHLTH</th>\n",
       "      <td>0.004549</td>\n",
       "      <td>0.005249</td>\n",
       "      <td>-0.228015</td>\n",
       "      <td>0.076954</td>\n",
       "      <td>0.092766</td>\n",
       "      <td>-0.031444</td>\n",
       "      <td>1.000000</td>\n",
       "      <td>0.307779</td>\n",
       "      <td>-0.246419</td>\n",
       "      <td>-0.055808</td>\n",
       "      <td>0.117363</td>\n",
       "      <td>0.119072</td>\n",
       "      <td>-0.061808</td>\n",
       "      <td>0.136532</td>\n",
       "      <td>0.153233</td>\n",
       "      <td>0.127672</td>\n",
       "      <td>0.238777</td>\n",
       "      <td>0.439038</td>\n",
       "      <td>-0.051136</td>\n",
       "    </tr>\n",
       "    <tr>\n",
       "      <th>MENTHLTH</th>\n",
       "      <td>0.001510</td>\n",
       "      <td>-0.001189</td>\n",
       "      <td>-0.167611</td>\n",
       "      <td>0.041171</td>\n",
       "      <td>-0.187221</td>\n",
       "      <td>-0.014867</td>\n",
       "      <td>0.307779</td>\n",
       "      <td>1.000000</td>\n",
       "      <td>-0.113858</td>\n",
       "      <td>-0.131139</td>\n",
       "      <td>0.055872</td>\n",
       "      <td>0.014913</td>\n",
       "      <td>0.047014</td>\n",
       "      <td>0.024994</td>\n",
       "      <td>0.025500</td>\n",
       "      <td>0.040694</td>\n",
       "      <td>0.063988</td>\n",
       "      <td>0.160028</td>\n",
       "      <td>-0.059610</td>\n",
       "    </tr>\n",
       "    <tr>\n",
       "      <th>EXERCISE</th>\n",
       "      <td>-0.001686</td>\n",
       "      <td>-0.009997</td>\n",
       "      <td>0.230887</td>\n",
       "      <td>-0.095673</td>\n",
       "      <td>-0.113140</td>\n",
       "      <td>0.022281</td>\n",
       "      <td>-0.246419</td>\n",
       "      <td>-0.113858</td>\n",
       "      <td>1.000000</td>\n",
       "      <td>0.007465</td>\n",
       "      <td>-0.082923</td>\n",
       "      <td>-0.009074</td>\n",
       "      <td>0.029612</td>\n",
       "      <td>-0.084121</td>\n",
       "      <td>-0.082496</td>\n",
       "      <td>-0.080933</td>\n",
       "      <td>-0.128565</td>\n",
       "      <td>-0.282646</td>\n",
       "      <td>0.088255</td>\n",
       "    </tr>\n",
       "    <tr>\n",
       "      <th>SLEEP</th>\n",
       "      <td>0.004026</td>\n",
       "      <td>0.002102</td>\n",
       "      <td>0.006769</td>\n",
       "      <td>-0.054642</td>\n",
       "      <td>0.128044</td>\n",
       "      <td>0.009830</td>\n",
       "      <td>-0.055808</td>\n",
       "      <td>-0.131139</td>\n",
       "      <td>0.007465</td>\n",
       "      <td>1.000000</td>\n",
       "      <td>0.015787</td>\n",
       "      <td>0.024180</td>\n",
       "      <td>-0.052893</td>\n",
       "      <td>0.003713</td>\n",
       "      <td>0.011718</td>\n",
       "      <td>0.012688</td>\n",
       "      <td>-0.008893</td>\n",
       "      <td>-0.018857</td>\n",
       "      <td>-0.009841</td>\n",
       "    </tr>\n",
       "    <tr>\n",
       "      <th>HLT_INSURANCE</th>\n",
       "      <td>-0.009596</td>\n",
       "      <td>-0.004428</td>\n",
       "      <td>-0.289473</td>\n",
       "      <td>-0.007700</td>\n",
       "      <td>0.162535</td>\n",
       "      <td>-0.027551</td>\n",
       "      <td>0.117363</td>\n",
       "      <td>0.055872</td>\n",
       "      <td>-0.082923</td>\n",
       "      <td>0.015787</td>\n",
       "      <td>1.000000</td>\n",
       "      <td>0.068768</td>\n",
       "      <td>-0.103021</td>\n",
       "      <td>0.075330</td>\n",
       "      <td>0.069518</td>\n",
       "      <td>0.066023</td>\n",
       "      <td>0.127703</td>\n",
       "      <td>0.143657</td>\n",
       "      <td>-0.041475</td>\n",
       "    </tr>\n",
       "    <tr>\n",
       "      <th>PERSONAL_DOC</th>\n",
       "      <td>-0.020202</td>\n",
       "      <td>-0.022880</td>\n",
       "      <td>0.056653</td>\n",
       "      <td>0.005484</td>\n",
       "      <td>0.196398</td>\n",
       "      <td>-0.015775</td>\n",
       "      <td>0.119072</td>\n",
       "      <td>0.014913</td>\n",
       "      <td>-0.009074</td>\n",
       "      <td>0.024180</td>\n",
       "      <td>0.068768</td>\n",
       "      <td>1.000000</td>\n",
       "      <td>-0.311979</td>\n",
       "      <td>0.084964</td>\n",
       "      <td>0.110816</td>\n",
       "      <td>0.058072</td>\n",
       "      <td>0.160645</td>\n",
       "      <td>0.114128</td>\n",
       "      <td>-0.067589</td>\n",
       "    </tr>\n",
       "    <tr>\n",
       "      <th>CHECKUP1</th>\n",
       "      <td>0.005484</td>\n",
       "      <td>0.001482</td>\n",
       "      <td>-0.003395</td>\n",
       "      <td>-0.010297</td>\n",
       "      <td>-0.233628</td>\n",
       "      <td>0.030687</td>\n",
       "      <td>-0.061808</td>\n",
       "      <td>0.047014</td>\n",
       "      <td>0.029612</td>\n",
       "      <td>-0.052893</td>\n",
       "      <td>-0.103021</td>\n",
       "      <td>-0.311979</td>\n",
       "      <td>1.000000</td>\n",
       "      <td>-0.063175</td>\n",
       "      <td>-0.076981</td>\n",
       "      <td>-0.053228</td>\n",
       "      <td>-0.153855</td>\n",
       "      <td>-0.091296</td>\n",
       "      <td>0.084313</td>\n",
       "    </tr>\n",
       "    <tr>\n",
       "      <th>HRT_ATTACK</th>\n",
       "      <td>-0.002947</td>\n",
       "      <td>-0.002591</td>\n",
       "      <td>-0.108280</td>\n",
       "      <td>0.037218</td>\n",
       "      <td>0.175574</td>\n",
       "      <td>-0.012671</td>\n",
       "      <td>0.136532</td>\n",
       "      <td>0.024994</td>\n",
       "      <td>-0.084121</td>\n",
       "      <td>0.003713</td>\n",
       "      <td>0.075330</td>\n",
       "      <td>0.084964</td>\n",
       "      <td>-0.063175</td>\n",
       "      <td>1.000000</td>\n",
       "      <td>0.447910</td>\n",
       "      <td>0.176720</td>\n",
       "      <td>0.116230</td>\n",
       "      <td>0.162854</td>\n",
       "      <td>0.024997</td>\n",
       "    </tr>\n",
       "    <tr>\n",
       "      <th>HRT_DISEASE</th>\n",
       "      <td>-0.003596</td>\n",
       "      <td>-0.003348</td>\n",
       "      <td>-0.083162</td>\n",
       "      <td>0.045369</td>\n",
       "      <td>0.204598</td>\n",
       "      <td>-0.015229</td>\n",
       "      <td>0.153233</td>\n",
       "      <td>0.025500</td>\n",
       "      <td>-0.082496</td>\n",
       "      <td>0.011718</td>\n",
       "      <td>0.069518</td>\n",
       "      <td>0.110816</td>\n",
       "      <td>-0.076981</td>\n",
       "      <td>0.447910</td>\n",
       "      <td>1.000000</td>\n",
       "      <td>0.152199</td>\n",
       "      <td>0.147637</td>\n",
       "      <td>0.175116</td>\n",
       "      <td>0.019730</td>\n",
       "    </tr>\n",
       "    <tr>\n",
       "      <th>STROKE</th>\n",
       "      <td>-0.008989</td>\n",
       "      <td>-0.008959</td>\n",
       "      <td>-0.115410</td>\n",
       "      <td>0.004563</td>\n",
       "      <td>0.135233</td>\n",
       "      <td>-0.007728</td>\n",
       "      <td>0.127672</td>\n",
       "      <td>0.040694</td>\n",
       "      <td>-0.080933</td>\n",
       "      <td>0.012688</td>\n",
       "      <td>0.066023</td>\n",
       "      <td>0.058072</td>\n",
       "      <td>-0.053228</td>\n",
       "      <td>0.176720</td>\n",
       "      <td>0.152199</td>\n",
       "      <td>1.000000</td>\n",
       "      <td>0.098657</td>\n",
       "      <td>0.167337</td>\n",
       "      <td>-0.021693</td>\n",
       "    </tr>\n",
       "    <tr>\n",
       "      <th>ARTHRITIS</th>\n",
       "      <td>0.001888</td>\n",
       "      <td>0.001485</td>\n",
       "      <td>-0.153600</td>\n",
       "      <td>0.066257</td>\n",
       "      <td>0.380859</td>\n",
       "      <td>-0.042416</td>\n",
       "      <td>0.238777</td>\n",
       "      <td>0.063988</td>\n",
       "      <td>-0.128565</td>\n",
       "      <td>-0.008893</td>\n",
       "      <td>0.127703</td>\n",
       "      <td>0.160645</td>\n",
       "      <td>-0.153855</td>\n",
       "      <td>0.116230</td>\n",
       "      <td>0.147637</td>\n",
       "      <td>0.098657</td>\n",
       "      <td>1.000000</td>\n",
       "      <td>0.322839</td>\n",
       "      <td>-0.092870</td>\n",
       "    </tr>\n",
       "    <tr>\n",
       "      <th>DIFFWALK</th>\n",
       "      <td>0.004619</td>\n",
       "      <td>0.009918</td>\n",
       "      <td>-0.288290</td>\n",
       "      <td>0.118718</td>\n",
       "      <td>0.238841</td>\n",
       "      <td>-0.040495</td>\n",
       "      <td>0.439038</td>\n",
       "      <td>0.160028</td>\n",
       "      <td>-0.282646</td>\n",
       "      <td>-0.018857</td>\n",
       "      <td>0.143657</td>\n",
       "      <td>0.114128</td>\n",
       "      <td>-0.091296</td>\n",
       "      <td>0.162854</td>\n",
       "      <td>0.175116</td>\n",
       "      <td>0.167337</td>\n",
       "      <td>0.322839</td>\n",
       "      <td>1.000000</td>\n",
       "      <td>-0.081951</td>\n",
       "    </tr>\n",
       "    <tr>\n",
       "      <th>HEIGHT</th>\n",
       "      <td>-0.002494</td>\n",
       "      <td>-0.013220</td>\n",
       "      <td>0.181358</td>\n",
       "      <td>0.471620</td>\n",
       "      <td>-0.102505</td>\n",
       "      <td>0.021630</td>\n",
       "      <td>-0.051136</td>\n",
       "      <td>-0.059610</td>\n",
       "      <td>0.088255</td>\n",
       "      <td>-0.009841</td>\n",
       "      <td>-0.041475</td>\n",
       "      <td>-0.067589</td>\n",
       "      <td>0.084313</td>\n",
       "      <td>0.024997</td>\n",
       "      <td>0.019730</td>\n",
       "      <td>-0.021693</td>\n",
       "      <td>-0.092870</td>\n",
       "      <td>-0.081951</td>\n",
       "      <td>1.000000</td>\n",
       "    </tr>\n",
       "  </tbody>\n",
       "</table>\n",
       "</div>"
      ],
      "text/plain": [
       "                     ID     STATE    INCOME    WEIGHT       AGE  DIABETES  \\\n",
       "ID             1.000000  0.990212 -0.023073  0.011744 -0.010641 -0.007067   \n",
       "STATE          0.990212  1.000000 -0.042704  0.005528 -0.006149 -0.010666   \n",
       "INCOME        -0.023073 -0.042704  1.000000  0.029914 -0.102743  0.049554   \n",
       "WEIGHT         0.011744  0.005528  0.029914  1.000000 -0.073103 -0.044344   \n",
       "AGE           -0.010641 -0.006149 -0.102743 -0.073103  1.000000 -0.043563   \n",
       "DIABETES      -0.007067 -0.010666  0.049554 -0.044344 -0.043563  1.000000   \n",
       "PHYSHLTH       0.004549  0.005249 -0.228015  0.076954  0.092766 -0.031444   \n",
       "MENTHLTH       0.001510 -0.001189 -0.167611  0.041171 -0.187221 -0.014867   \n",
       "EXERCISE      -0.001686 -0.009997  0.230887 -0.095673 -0.113140  0.022281   \n",
       "SLEEP          0.004026  0.002102  0.006769 -0.054642  0.128044  0.009830   \n",
       "HLT_INSURANCE -0.009596 -0.004428 -0.289473 -0.007700  0.162535 -0.027551   \n",
       "PERSONAL_DOC  -0.020202 -0.022880  0.056653  0.005484  0.196398 -0.015775   \n",
       "CHECKUP1       0.005484  0.001482 -0.003395 -0.010297 -0.233628  0.030687   \n",
       "HRT_ATTACK    -0.002947 -0.002591 -0.108280  0.037218  0.175574 -0.012671   \n",
       "HRT_DISEASE   -0.003596 -0.003348 -0.083162  0.045369  0.204598 -0.015229   \n",
       "STROKE        -0.008989 -0.008959 -0.115410  0.004563  0.135233 -0.007728   \n",
       "ARTHRITIS      0.001888  0.001485 -0.153600  0.066257  0.380859 -0.042416   \n",
       "DIFFWALK       0.004619  0.009918 -0.288290  0.118718  0.238841 -0.040495   \n",
       "HEIGHT        -0.002494 -0.013220  0.181358  0.471620 -0.102505  0.021630   \n",
       "\n",
       "               PHYSHLTH  MENTHLTH  EXERCISE     SLEEP  HLT_INSURANCE  \\\n",
       "ID             0.004549  0.001510 -0.001686  0.004026      -0.009596   \n",
       "STATE          0.005249 -0.001189 -0.009997  0.002102      -0.004428   \n",
       "INCOME        -0.228015 -0.167611  0.230887  0.006769      -0.289473   \n",
       "WEIGHT         0.076954  0.041171 -0.095673 -0.054642      -0.007700   \n",
       "AGE            0.092766 -0.187221 -0.113140  0.128044       0.162535   \n",
       "DIABETES      -0.031444 -0.014867  0.022281  0.009830      -0.027551   \n",
       "PHYSHLTH       1.000000  0.307779 -0.246419 -0.055808       0.117363   \n",
       "MENTHLTH       0.307779  1.000000 -0.113858 -0.131139       0.055872   \n",
       "EXERCISE      -0.246419 -0.113858  1.000000  0.007465      -0.082923   \n",
       "SLEEP         -0.055808 -0.131139  0.007465  1.000000       0.015787   \n",
       "HLT_INSURANCE  0.117363  0.055872 -0.082923  0.015787       1.000000   \n",
       "PERSONAL_DOC   0.119072  0.014913 -0.009074  0.024180       0.068768   \n",
       "CHECKUP1      -0.061808  0.047014  0.029612 -0.052893      -0.103021   \n",
       "HRT_ATTACK     0.136532  0.024994 -0.084121  0.003713       0.075330   \n",
       "HRT_DISEASE    0.153233  0.025500 -0.082496  0.011718       0.069518   \n",
       "STROKE         0.127672  0.040694 -0.080933  0.012688       0.066023   \n",
       "ARTHRITIS      0.238777  0.063988 -0.128565 -0.008893       0.127703   \n",
       "DIFFWALK       0.439038  0.160028 -0.282646 -0.018857       0.143657   \n",
       "HEIGHT        -0.051136 -0.059610  0.088255 -0.009841      -0.041475   \n",
       "\n",
       "               PERSONAL_DOC  CHECKUP1  HRT_ATTACK  HRT_DISEASE    STROKE  \\\n",
       "ID                -0.020202  0.005484   -0.002947    -0.003596 -0.008989   \n",
       "STATE             -0.022880  0.001482   -0.002591    -0.003348 -0.008959   \n",
       "INCOME             0.056653 -0.003395   -0.108280    -0.083162 -0.115410   \n",
       "WEIGHT             0.005484 -0.010297    0.037218     0.045369  0.004563   \n",
       "AGE                0.196398 -0.233628    0.175574     0.204598  0.135233   \n",
       "DIABETES          -0.015775  0.030687   -0.012671    -0.015229 -0.007728   \n",
       "PHYSHLTH           0.119072 -0.061808    0.136532     0.153233  0.127672   \n",
       "MENTHLTH           0.014913  0.047014    0.024994     0.025500  0.040694   \n",
       "EXERCISE          -0.009074  0.029612   -0.084121    -0.082496 -0.080933   \n",
       "SLEEP              0.024180 -0.052893    0.003713     0.011718  0.012688   \n",
       "HLT_INSURANCE      0.068768 -0.103021    0.075330     0.069518  0.066023   \n",
       "PERSONAL_DOC       1.000000 -0.311979    0.084964     0.110816  0.058072   \n",
       "CHECKUP1          -0.311979  1.000000   -0.063175    -0.076981 -0.053228   \n",
       "HRT_ATTACK         0.084964 -0.063175    1.000000     0.447910  0.176720   \n",
       "HRT_DISEASE        0.110816 -0.076981    0.447910     1.000000  0.152199   \n",
       "STROKE             0.058072 -0.053228    0.176720     0.152199  1.000000   \n",
       "ARTHRITIS          0.160645 -0.153855    0.116230     0.147637  0.098657   \n",
       "DIFFWALK           0.114128 -0.091296    0.162854     0.175116  0.167337   \n",
       "HEIGHT            -0.067589  0.084313    0.024997     0.019730 -0.021693   \n",
       "\n",
       "               ARTHRITIS  DIFFWALK    HEIGHT  \n",
       "ID              0.001888  0.004619 -0.002494  \n",
       "STATE           0.001485  0.009918 -0.013220  \n",
       "INCOME         -0.153600 -0.288290  0.181358  \n",
       "WEIGHT          0.066257  0.118718  0.471620  \n",
       "AGE             0.380859  0.238841 -0.102505  \n",
       "DIABETES       -0.042416 -0.040495  0.021630  \n",
       "PHYSHLTH        0.238777  0.439038 -0.051136  \n",
       "MENTHLTH        0.063988  0.160028 -0.059610  \n",
       "EXERCISE       -0.128565 -0.282646  0.088255  \n",
       "SLEEP          -0.008893 -0.018857 -0.009841  \n",
       "HLT_INSURANCE   0.127703  0.143657 -0.041475  \n",
       "PERSONAL_DOC    0.160645  0.114128 -0.067589  \n",
       "CHECKUP1       -0.153855 -0.091296  0.084313  \n",
       "HRT_ATTACK      0.116230  0.162854  0.024997  \n",
       "HRT_DISEASE     0.147637  0.175116  0.019730  \n",
       "STROKE          0.098657  0.167337 -0.021693  \n",
       "ARTHRITIS       1.000000  0.322839 -0.092870  \n",
       "DIFFWALK        0.322839  1.000000 -0.081951  \n",
       "HEIGHT         -0.092870 -0.081951  1.000000  "
      ]
     },
     "execution_count": 24,
     "metadata": {},
     "output_type": "execute_result"
    }
   ],
   "source": [
    "data.corr()"
   ]
  },
  {
   "cell_type": "code",
   "execution_count": 25,
   "id": "03990ea1",
   "metadata": {},
   "outputs": [],
   "source": [
    "def correlation_plot():\n",
    "    #correlation\n",
    "    correlation = data.corr()\n",
    "    #tick labels\n",
    "    matrix_cols = correlation.columns.tolist()\n",
    "    #convert to array\n",
    "    corr_array  = np.array(correlation)\n",
    "    trace = go.Heatmap(z = corr_array,\n",
    "                       x = matrix_cols,\n",
    "                       y = matrix_cols,\n",
    "                       colorscale='Viridis',\n",
    "                       colorbar   = dict() ,\n",
    "                      )\n",
    "    layout = go.Layout(dict(title = 'Correlation Matrix for variables',\n",
    "                            #autosize = False,\n",
    "                            #height  = 1400,\n",
    "                            #width   = 1600,\n",
    "                            margin  = dict(r = 0 ,l = 100,\n",
    "                                           t = 0,b = 100,\n",
    "                                         ),\n",
    "                            yaxis   = dict(tickfont = dict(size = 9)),\n",
    "                            xaxis   = dict(tickfont = dict(size = 9)),\n",
    "                           )\n",
    "                      )\n",
    "    fig = go.Figure(data = [trace],layout = layout)\n",
    "    py.iplot(fig)"
   ]
  },
  {
   "cell_type": "code",
   "execution_count": 81,
   "id": "39c896cb",
   "metadata": {
    "scrolled": true
   },
   "outputs": [
    {
     "data": {
      "application/vnd.plotly.v1+json": {
       "config": {
        "linkText": "Export to plot.ly",
        "plotlyServerURL": "https://plot.ly",
        "showLink": false
       },
       "data": [
        {
         "colorscale": [
          [
           0,
           "#440154"
          ],
          [
           0.1111111111111111,
           "#482878"
          ],
          [
           0.2222222222222222,
           "#3e4989"
          ],
          [
           0.3333333333333333,
           "#31688e"
          ],
          [
           0.4444444444444444,
           "#26828e"
          ],
          [
           0.5555555555555556,
           "#1f9e89"
          ],
          [
           0.6666666666666666,
           "#35b779"
          ],
          [
           0.7777777777777778,
           "#6ece58"
          ],
          [
           0.8888888888888888,
           "#b5de2b"
          ],
          [
           1,
           "#fde725"
          ]
         ],
         "type": "heatmap",
         "x": [
          "ID",
          "STATE",
          "INCOME",
          "WEIGHT",
          "AGE",
          "DIABETES",
          "PHYSHLTH",
          "MENTHLTH",
          "EXERCISE",
          "SLEEP",
          "HLT_INSURANCE",
          "PERSONAL_DOC",
          "CHECKUP1",
          "HRT_ATTACK",
          "HRT_DISEASE",
          "STROKE",
          "ARTHRITIS",
          "DIFFWALK",
          "HEIGHT"
         ],
         "y": [
          "ID",
          "STATE",
          "INCOME",
          "WEIGHT",
          "AGE",
          "DIABETES",
          "PHYSHLTH",
          "MENTHLTH",
          "EXERCISE",
          "SLEEP",
          "HLT_INSURANCE",
          "PERSONAL_DOC",
          "CHECKUP1",
          "HRT_ATTACK",
          "HRT_DISEASE",
          "STROKE",
          "ARTHRITIS",
          "DIFFWALK",
          "HEIGHT"
         ],
         "z": [
          [
           1,
           0.9902120023714479,
           -0.023073161602278337,
           0.011744417023036895,
           -0.010641427320751677,
           -0.0070671793345892875,
           0.004549291826680399,
           0.001509954830333688,
           -0.0016863228796792288,
           0.00402563787197266,
           -0.00959637250751691,
           -0.020201791426109478,
           0.005484372255574124,
           -0.002947055370556476,
           -0.0035957358145748608,
           -0.008989129206221854,
           0.0018880796808164889,
           0.0046186962702453975,
           -0.0024942474110307344
          ],
          [
           0.9902120023714479,
           1,
           -0.04270394667284602,
           0.005528456428590757,
           -0.006149065432187563,
           -0.010665831407068798,
           0.005249498331248384,
           -0.00118946677554596,
           -0.009996802278560545,
           0.002101907277227536,
           -0.00442819829561008,
           -0.022879706605312973,
           0.0014817496404466925,
           -0.0025909655853476876,
           -0.003347591605962703,
           -0.008958610082931685,
           0.0014850970510042081,
           0.009918081558296099,
           -0.01322000425648784
          ],
          [
           -0.023073161602278337,
           -0.04270394667284602,
           1,
           0.029914138989911753,
           -0.1027429230147103,
           0.049553653897826316,
           -0.2280153491422528,
           -0.1676107629414641,
           0.23088669118642796,
           0.006768723379474147,
           -0.2894726898301681,
           0.05665302507324207,
           -0.003394705592827992,
           -0.10828038798056995,
           -0.08316200776234996,
           -0.11540983901346637,
           -0.15359969452103506,
           -0.288290136801214,
           0.18135841408790532
          ],
          [
           0.011744417023036895,
           0.005528456428590757,
           0.029914138989911753,
           1,
           -0.07310280674680936,
           -0.044344125436531226,
           0.07695355013826521,
           0.04117131198374262,
           -0.09567341675031853,
           -0.05464227518920233,
           -0.007699896728827282,
           0.005484082464735028,
           -0.010297466757036959,
           0.03721776880030417,
           0.045369131883316365,
           0.004563272983255405,
           0.06625742313403946,
           0.11871807720103746,
           0.47161969392326936
          ],
          [
           -0.010641427320751677,
           -0.006149065432187563,
           -0.1027429230147103,
           -0.07310280674680936,
           1,
           -0.04356324390602611,
           0.0927661492194368,
           -0.1872213214437862,
           -0.11314033662964464,
           0.12804387873488782,
           0.16253453960686354,
           0.19639790006154875,
           -0.23362820565115736,
           0.17557445227092383,
           0.2045983817000289,
           0.1352330275048971,
           0.3808593378238911,
           0.2388414055337892,
           -0.1025046126699786
          ],
          [
           -0.0070671793345892875,
           -0.010665831407068798,
           0.049553653897826316,
           -0.044344125436531226,
           -0.04356324390602611,
           1,
           -0.03144396460771447,
           -0.014866529923747415,
           0.02228116336781477,
           0.009829728552306871,
           -0.027551371932929697,
           -0.015775407980711535,
           0.030687127165640364,
           -0.012670625426195103,
           -0.015228929356651938,
           -0.00772781613354104,
           -0.0424162257161208,
           -0.040494847331640695,
           0.021629723510515307
          ],
          [
           0.004549291826680399,
           0.005249498331248384,
           -0.2280153491422528,
           0.07695355013826521,
           0.0927661492194368,
           -0.03144396460771447,
           1,
           0.307778767522355,
           -0.24641922588199214,
           -0.05580810325310562,
           0.11736323027158024,
           0.11907178202543829,
           -0.06180798205505199,
           0.13653239818959337,
           0.1532326500960214,
           0.12767249548290752,
           0.23877661173875453,
           0.4390375275191473,
           -0.05113636221732425
          ],
          [
           0.001509954830333688,
           -0.00118946677554596,
           -0.1676107629414641,
           0.04117131198374262,
           -0.1872213214437862,
           -0.014866529923747415,
           0.307778767522355,
           1,
           -0.1138579418566236,
           -0.13113871562147483,
           0.055872381585130575,
           0.01491253072817947,
           0.04701400849184106,
           0.024994140315922637,
           0.025499842517831686,
           0.040693747652436704,
           0.06398819090849352,
           0.16002845444558067,
           -0.05961021408363052
          ],
          [
           -0.0016863228796792288,
           -0.009996802278560545,
           0.23088669118642796,
           -0.09567341675031853,
           -0.11314033662964464,
           0.02228116336781477,
           -0.24641922588199214,
           -0.1138579418566236,
           1,
           0.007464656057632294,
           -0.08292310519997083,
           -0.009073737331764347,
           0.029612142546860537,
           -0.08412149233320128,
           -0.08249589647638425,
           -0.08093314202507702,
           -0.12856471520971136,
           -0.2826462437943323,
           0.08825544764559615
          ],
          [
           0.00402563787197266,
           0.002101907277227536,
           0.006768723379474147,
           -0.05464227518920233,
           0.12804387873488782,
           0.009829728552306871,
           -0.05580810325310562,
           -0.13113871562147483,
           0.007464656057632294,
           1,
           0.015787193461346168,
           0.024179998064587253,
           -0.05289310217724242,
           0.0037134493634088752,
           0.011718253216563475,
           0.012688308866523307,
           -0.008892714803388067,
           -0.01885743600175312,
           -0.009840954856244881
          ],
          [
           -0.00959637250751691,
           -0.00442819829561008,
           -0.2894726898301681,
           -0.007699896728827282,
           0.16253453960686354,
           -0.027551371932929697,
           0.11736323027158024,
           0.055872381585130575,
           -0.08292310519997083,
           0.015787193461346168,
           1,
           0.0687678863877038,
           -0.10302085241151221,
           0.07532987641876505,
           0.06951751921489563,
           0.06602341719542809,
           0.12770335009016154,
           0.14365673780618973,
           -0.04147453418598815
          ],
          [
           -0.020201791426109478,
           -0.022879706605312973,
           0.05665302507324207,
           0.005484082464735028,
           0.19639790006154875,
           -0.015775407980711535,
           0.11907178202543829,
           0.01491253072817947,
           -0.009073737331764347,
           0.024179998064587253,
           0.0687678863877038,
           1,
           -0.31197854339724357,
           0.08496376792449764,
           0.11081583657850348,
           0.05807233377188953,
           0.16064508140161254,
           0.11412762410417018,
           -0.06758880718939737
          ],
          [
           0.005484372255574124,
           0.0014817496404466925,
           -0.003394705592827992,
           -0.010297466757036959,
           -0.23362820565115736,
           0.030687127165640364,
           -0.06180798205505199,
           0.04701400849184106,
           0.029612142546860537,
           -0.05289310217724242,
           -0.10302085241151221,
           -0.31197854339724357,
           1,
           -0.06317477483765015,
           -0.07698143035518476,
           -0.0532280398193742,
           -0.15385504008956286,
           -0.09129565952933738,
           0.08431255185616097
          ],
          [
           -0.002947055370556476,
           -0.0025909655853476876,
           -0.10828038798056995,
           0.03721776880030417,
           0.17557445227092383,
           -0.012670625426195103,
           0.13653239818959337,
           0.024994140315922637,
           -0.08412149233320128,
           0.0037134493634088752,
           0.07532987641876505,
           0.08496376792449764,
           -0.06317477483765015,
           1,
           0.44791029876513605,
           0.17671965729173825,
           0.11623045777908862,
           0.16285441102770487,
           0.02499674220099227
          ],
          [
           -0.0035957358145748608,
           -0.003347591605962703,
           -0.08316200776234996,
           0.045369131883316365,
           0.2045983817000289,
           -0.015228929356651938,
           0.1532326500960214,
           0.025499842517831686,
           -0.08249589647638425,
           0.011718253216563475,
           0.06951751921489563,
           0.11081583657850348,
           -0.07698143035518476,
           0.44791029876513605,
           1,
           0.15219919693495113,
           0.14763652826069024,
           0.1751161834211127,
           0.019730005114268867
          ],
          [
           -0.008989129206221854,
           -0.008958610082931685,
           -0.11540983901346637,
           0.004563272983255405,
           0.1352330275048971,
           -0.00772781613354104,
           0.12767249548290752,
           0.040693747652436704,
           -0.08093314202507702,
           0.012688308866523307,
           0.06602341719542809,
           0.05807233377188953,
           -0.0532280398193742,
           0.17671965729173825,
           0.15219919693495113,
           1,
           0.09865718768267367,
           0.16733727461305772,
           -0.021693445275129005
          ],
          [
           0.0018880796808164889,
           0.0014850970510042081,
           -0.15359969452103506,
           0.06625742313403946,
           0.3808593378238911,
           -0.0424162257161208,
           0.23877661173875453,
           0.06398819090849352,
           -0.12856471520971136,
           -0.008892714803388067,
           0.12770335009016154,
           0.16064508140161254,
           -0.15385504008956286,
           0.11623045777908862,
           0.14763652826069024,
           0.09865718768267367,
           1,
           0.32283863183839984,
           -0.09287015595511156
          ],
          [
           0.0046186962702453975,
           0.009918081558296099,
           -0.288290136801214,
           0.11871807720103746,
           0.2388414055337892,
           -0.040494847331640695,
           0.4390375275191473,
           0.16002845444558067,
           -0.2826462437943323,
           -0.01885743600175312,
           0.14365673780618973,
           0.11412762410417018,
           -0.09129565952933738,
           0.16285441102770487,
           0.1751161834211127,
           0.16733727461305772,
           0.32283863183839984,
           1,
           -0.08195123077480682
          ],
          [
           -0.0024942474110307344,
           -0.01322000425648784,
           0.18135841408790532,
           0.47161969392326936,
           -0.1025046126699786,
           0.021629723510515307,
           -0.05113636221732425,
           -0.05961021408363052,
           0.08825544764559615,
           -0.009840954856244881,
           -0.04147453418598815,
           -0.06758880718939737,
           0.08431255185616097,
           0.02499674220099227,
           0.019730005114268867,
           -0.021693445275129005,
           -0.09287015595511156,
           -0.08195123077480682,
           1
          ]
         ]
        }
       ],
       "layout": {
        "margin": {
         "b": 100,
         "l": 100,
         "r": 0,
         "t": 0
        },
        "template": {
         "data": {
          "bar": [
           {
            "error_x": {
             "color": "#2a3f5f"
            },
            "error_y": {
             "color": "#2a3f5f"
            },
            "marker": {
             "line": {
              "color": "#E5ECF6",
              "width": 0.5
             },
             "pattern": {
              "fillmode": "overlay",
              "size": 10,
              "solidity": 0.2
             }
            },
            "type": "bar"
           }
          ],
          "barpolar": [
           {
            "marker": {
             "line": {
              "color": "#E5ECF6",
              "width": 0.5
             },
             "pattern": {
              "fillmode": "overlay",
              "size": 10,
              "solidity": 0.2
             }
            },
            "type": "barpolar"
           }
          ],
          "carpet": [
           {
            "aaxis": {
             "endlinecolor": "#2a3f5f",
             "gridcolor": "white",
             "linecolor": "white",
             "minorgridcolor": "white",
             "startlinecolor": "#2a3f5f"
            },
            "baxis": {
             "endlinecolor": "#2a3f5f",
             "gridcolor": "white",
             "linecolor": "white",
             "minorgridcolor": "white",
             "startlinecolor": "#2a3f5f"
            },
            "type": "carpet"
           }
          ],
          "choropleth": [
           {
            "colorbar": {
             "outlinewidth": 0,
             "ticks": ""
            },
            "type": "choropleth"
           }
          ],
          "contour": [
           {
            "colorbar": {
             "outlinewidth": 0,
             "ticks": ""
            },
            "colorscale": [
             [
              0,
              "#0d0887"
             ],
             [
              0.1111111111111111,
              "#46039f"
             ],
             [
              0.2222222222222222,
              "#7201a8"
             ],
             [
              0.3333333333333333,
              "#9c179e"
             ],
             [
              0.4444444444444444,
              "#bd3786"
             ],
             [
              0.5555555555555556,
              "#d8576b"
             ],
             [
              0.6666666666666666,
              "#ed7953"
             ],
             [
              0.7777777777777778,
              "#fb9f3a"
             ],
             [
              0.8888888888888888,
              "#fdca26"
             ],
             [
              1,
              "#f0f921"
             ]
            ],
            "type": "contour"
           }
          ],
          "contourcarpet": [
           {
            "colorbar": {
             "outlinewidth": 0,
             "ticks": ""
            },
            "type": "contourcarpet"
           }
          ],
          "heatmap": [
           {
            "colorbar": {
             "outlinewidth": 0,
             "ticks": ""
            },
            "colorscale": [
             [
              0,
              "#0d0887"
             ],
             [
              0.1111111111111111,
              "#46039f"
             ],
             [
              0.2222222222222222,
              "#7201a8"
             ],
             [
              0.3333333333333333,
              "#9c179e"
             ],
             [
              0.4444444444444444,
              "#bd3786"
             ],
             [
              0.5555555555555556,
              "#d8576b"
             ],
             [
              0.6666666666666666,
              "#ed7953"
             ],
             [
              0.7777777777777778,
              "#fb9f3a"
             ],
             [
              0.8888888888888888,
              "#fdca26"
             ],
             [
              1,
              "#f0f921"
             ]
            ],
            "type": "heatmap"
           }
          ],
          "heatmapgl": [
           {
            "colorbar": {
             "outlinewidth": 0,
             "ticks": ""
            },
            "colorscale": [
             [
              0,
              "#0d0887"
             ],
             [
              0.1111111111111111,
              "#46039f"
             ],
             [
              0.2222222222222222,
              "#7201a8"
             ],
             [
              0.3333333333333333,
              "#9c179e"
             ],
             [
              0.4444444444444444,
              "#bd3786"
             ],
             [
              0.5555555555555556,
              "#d8576b"
             ],
             [
              0.6666666666666666,
              "#ed7953"
             ],
             [
              0.7777777777777778,
              "#fb9f3a"
             ],
             [
              0.8888888888888888,
              "#fdca26"
             ],
             [
              1,
              "#f0f921"
             ]
            ],
            "type": "heatmapgl"
           }
          ],
          "histogram": [
           {
            "marker": {
             "pattern": {
              "fillmode": "overlay",
              "size": 10,
              "solidity": 0.2
             }
            },
            "type": "histogram"
           }
          ],
          "histogram2d": [
           {
            "colorbar": {
             "outlinewidth": 0,
             "ticks": ""
            },
            "colorscale": [
             [
              0,
              "#0d0887"
             ],
             [
              0.1111111111111111,
              "#46039f"
             ],
             [
              0.2222222222222222,
              "#7201a8"
             ],
             [
              0.3333333333333333,
              "#9c179e"
             ],
             [
              0.4444444444444444,
              "#bd3786"
             ],
             [
              0.5555555555555556,
              "#d8576b"
             ],
             [
              0.6666666666666666,
              "#ed7953"
             ],
             [
              0.7777777777777778,
              "#fb9f3a"
             ],
             [
              0.8888888888888888,
              "#fdca26"
             ],
             [
              1,
              "#f0f921"
             ]
            ],
            "type": "histogram2d"
           }
          ],
          "histogram2dcontour": [
           {
            "colorbar": {
             "outlinewidth": 0,
             "ticks": ""
            },
            "colorscale": [
             [
              0,
              "#0d0887"
             ],
             [
              0.1111111111111111,
              "#46039f"
             ],
             [
              0.2222222222222222,
              "#7201a8"
             ],
             [
              0.3333333333333333,
              "#9c179e"
             ],
             [
              0.4444444444444444,
              "#bd3786"
             ],
             [
              0.5555555555555556,
              "#d8576b"
             ],
             [
              0.6666666666666666,
              "#ed7953"
             ],
             [
              0.7777777777777778,
              "#fb9f3a"
             ],
             [
              0.8888888888888888,
              "#fdca26"
             ],
             [
              1,
              "#f0f921"
             ]
            ],
            "type": "histogram2dcontour"
           }
          ],
          "mesh3d": [
           {
            "colorbar": {
             "outlinewidth": 0,
             "ticks": ""
            },
            "type": "mesh3d"
           }
          ],
          "parcoords": [
           {
            "line": {
             "colorbar": {
              "outlinewidth": 0,
              "ticks": ""
             }
            },
            "type": "parcoords"
           }
          ],
          "pie": [
           {
            "automargin": true,
            "type": "pie"
           }
          ],
          "scatter": [
           {
            "fillpattern": {
             "fillmode": "overlay",
             "size": 10,
             "solidity": 0.2
            },
            "type": "scatter"
           }
          ],
          "scatter3d": [
           {
            "line": {
             "colorbar": {
              "outlinewidth": 0,
              "ticks": ""
             }
            },
            "marker": {
             "colorbar": {
              "outlinewidth": 0,
              "ticks": ""
             }
            },
            "type": "scatter3d"
           }
          ],
          "scattercarpet": [
           {
            "marker": {
             "colorbar": {
              "outlinewidth": 0,
              "ticks": ""
             }
            },
            "type": "scattercarpet"
           }
          ],
          "scattergeo": [
           {
            "marker": {
             "colorbar": {
              "outlinewidth": 0,
              "ticks": ""
             }
            },
            "type": "scattergeo"
           }
          ],
          "scattergl": [
           {
            "marker": {
             "colorbar": {
              "outlinewidth": 0,
              "ticks": ""
             }
            },
            "type": "scattergl"
           }
          ],
          "scattermapbox": [
           {
            "marker": {
             "colorbar": {
              "outlinewidth": 0,
              "ticks": ""
             }
            },
            "type": "scattermapbox"
           }
          ],
          "scatterpolar": [
           {
            "marker": {
             "colorbar": {
              "outlinewidth": 0,
              "ticks": ""
             }
            },
            "type": "scatterpolar"
           }
          ],
          "scatterpolargl": [
           {
            "marker": {
             "colorbar": {
              "outlinewidth": 0,
              "ticks": ""
             }
            },
            "type": "scatterpolargl"
           }
          ],
          "scatterternary": [
           {
            "marker": {
             "colorbar": {
              "outlinewidth": 0,
              "ticks": ""
             }
            },
            "type": "scatterternary"
           }
          ],
          "surface": [
           {
            "colorbar": {
             "outlinewidth": 0,
             "ticks": ""
            },
            "colorscale": [
             [
              0,
              "#0d0887"
             ],
             [
              0.1111111111111111,
              "#46039f"
             ],
             [
              0.2222222222222222,
              "#7201a8"
             ],
             [
              0.3333333333333333,
              "#9c179e"
             ],
             [
              0.4444444444444444,
              "#bd3786"
             ],
             [
              0.5555555555555556,
              "#d8576b"
             ],
             [
              0.6666666666666666,
              "#ed7953"
             ],
             [
              0.7777777777777778,
              "#fb9f3a"
             ],
             [
              0.8888888888888888,
              "#fdca26"
             ],
             [
              1,
              "#f0f921"
             ]
            ],
            "type": "surface"
           }
          ],
          "table": [
           {
            "cells": {
             "fill": {
              "color": "#EBF0F8"
             },
             "line": {
              "color": "white"
             }
            },
            "header": {
             "fill": {
              "color": "#C8D4E3"
             },
             "line": {
              "color": "white"
             }
            },
            "type": "table"
           }
          ]
         },
         "layout": {
          "annotationdefaults": {
           "arrowcolor": "#2a3f5f",
           "arrowhead": 0,
           "arrowwidth": 1
          },
          "autotypenumbers": "strict",
          "coloraxis": {
           "colorbar": {
            "outlinewidth": 0,
            "ticks": ""
           }
          },
          "colorscale": {
           "diverging": [
            [
             0,
             "#8e0152"
            ],
            [
             0.1,
             "#c51b7d"
            ],
            [
             0.2,
             "#de77ae"
            ],
            [
             0.3,
             "#f1b6da"
            ],
            [
             0.4,
             "#fde0ef"
            ],
            [
             0.5,
             "#f7f7f7"
            ],
            [
             0.6,
             "#e6f5d0"
            ],
            [
             0.7,
             "#b8e186"
            ],
            [
             0.8,
             "#7fbc41"
            ],
            [
             0.9,
             "#4d9221"
            ],
            [
             1,
             "#276419"
            ]
           ],
           "sequential": [
            [
             0,
             "#0d0887"
            ],
            [
             0.1111111111111111,
             "#46039f"
            ],
            [
             0.2222222222222222,
             "#7201a8"
            ],
            [
             0.3333333333333333,
             "#9c179e"
            ],
            [
             0.4444444444444444,
             "#bd3786"
            ],
            [
             0.5555555555555556,
             "#d8576b"
            ],
            [
             0.6666666666666666,
             "#ed7953"
            ],
            [
             0.7777777777777778,
             "#fb9f3a"
            ],
            [
             0.8888888888888888,
             "#fdca26"
            ],
            [
             1,
             "#f0f921"
            ]
           ],
           "sequentialminus": [
            [
             0,
             "#0d0887"
            ],
            [
             0.1111111111111111,
             "#46039f"
            ],
            [
             0.2222222222222222,
             "#7201a8"
            ],
            [
             0.3333333333333333,
             "#9c179e"
            ],
            [
             0.4444444444444444,
             "#bd3786"
            ],
            [
             0.5555555555555556,
             "#d8576b"
            ],
            [
             0.6666666666666666,
             "#ed7953"
            ],
            [
             0.7777777777777778,
             "#fb9f3a"
            ],
            [
             0.8888888888888888,
             "#fdca26"
            ],
            [
             1,
             "#f0f921"
            ]
           ]
          },
          "colorway": [
           "#636efa",
           "#EF553B",
           "#00cc96",
           "#ab63fa",
           "#FFA15A",
           "#19d3f3",
           "#FF6692",
           "#B6E880",
           "#FF97FF",
           "#FECB52"
          ],
          "font": {
           "color": "#2a3f5f"
          },
          "geo": {
           "bgcolor": "white",
           "lakecolor": "white",
           "landcolor": "#E5ECF6",
           "showlakes": true,
           "showland": true,
           "subunitcolor": "white"
          },
          "hoverlabel": {
           "align": "left"
          },
          "hovermode": "closest",
          "mapbox": {
           "style": "light"
          },
          "paper_bgcolor": "white",
          "plot_bgcolor": "#E5ECF6",
          "polar": {
           "angularaxis": {
            "gridcolor": "white",
            "linecolor": "white",
            "ticks": ""
           },
           "bgcolor": "#E5ECF6",
           "radialaxis": {
            "gridcolor": "white",
            "linecolor": "white",
            "ticks": ""
           }
          },
          "scene": {
           "xaxis": {
            "backgroundcolor": "#E5ECF6",
            "gridcolor": "white",
            "gridwidth": 2,
            "linecolor": "white",
            "showbackground": true,
            "ticks": "",
            "zerolinecolor": "white"
           },
           "yaxis": {
            "backgroundcolor": "#E5ECF6",
            "gridcolor": "white",
            "gridwidth": 2,
            "linecolor": "white",
            "showbackground": true,
            "ticks": "",
            "zerolinecolor": "white"
           },
           "zaxis": {
            "backgroundcolor": "#E5ECF6",
            "gridcolor": "white",
            "gridwidth": 2,
            "linecolor": "white",
            "showbackground": true,
            "ticks": "",
            "zerolinecolor": "white"
           }
          },
          "shapedefaults": {
           "line": {
            "color": "#2a3f5f"
           }
          },
          "ternary": {
           "aaxis": {
            "gridcolor": "white",
            "linecolor": "white",
            "ticks": ""
           },
           "baxis": {
            "gridcolor": "white",
            "linecolor": "white",
            "ticks": ""
           },
           "bgcolor": "#E5ECF6",
           "caxis": {
            "gridcolor": "white",
            "linecolor": "white",
            "ticks": ""
           }
          },
          "title": {
           "x": 0.05
          },
          "xaxis": {
           "automargin": true,
           "gridcolor": "white",
           "linecolor": "white",
           "ticks": "",
           "title": {
            "standoff": 15
           },
           "zerolinecolor": "white",
           "zerolinewidth": 2
          },
          "yaxis": {
           "automargin": true,
           "gridcolor": "white",
           "linecolor": "white",
           "ticks": "",
           "title": {
            "standoff": 15
           },
           "zerolinecolor": "white",
           "zerolinewidth": 2
          }
         }
        },
        "title": {
         "text": "Correlation Matrix for variables"
        },
        "xaxis": {
         "tickfont": {
          "size": 9
         }
        },
        "yaxis": {
         "tickfont": {
          "size": 9
         }
        }
       }
      },
      "text/html": [
       "<div>                            <div id=\"b2218d60-666f-48d3-b22a-d47b370c6d96\" class=\"plotly-graph-div\" style=\"height:525px; width:100%;\"></div>            <script type=\"text/javascript\">                require([\"plotly\"], function(Plotly) {                    window.PLOTLYENV=window.PLOTLYENV || {};                                    if (document.getElementById(\"b2218d60-666f-48d3-b22a-d47b370c6d96\")) {                    Plotly.newPlot(                        \"b2218d60-666f-48d3-b22a-d47b370c6d96\",                        [{\"colorscale\":[[0.0,\"#440154\"],[0.1111111111111111,\"#482878\"],[0.2222222222222222,\"#3e4989\"],[0.3333333333333333,\"#31688e\"],[0.4444444444444444,\"#26828e\"],[0.5555555555555556,\"#1f9e89\"],[0.6666666666666666,\"#35b779\"],[0.7777777777777778,\"#6ece58\"],[0.8888888888888888,\"#b5de2b\"],[1.0,\"#fde725\"]],\"x\":[\"ID\",\"STATE\",\"INCOME\",\"WEIGHT\",\"AGE\",\"DIABETES\",\"PHYSHLTH\",\"MENTHLTH\",\"EXERCISE\",\"SLEEP\",\"HLT_INSURANCE\",\"PERSONAL_DOC\",\"CHECKUP1\",\"HRT_ATTACK\",\"HRT_DISEASE\",\"STROKE\",\"ARTHRITIS\",\"DIFFWALK\",\"HEIGHT\"],\"y\":[\"ID\",\"STATE\",\"INCOME\",\"WEIGHT\",\"AGE\",\"DIABETES\",\"PHYSHLTH\",\"MENTHLTH\",\"EXERCISE\",\"SLEEP\",\"HLT_INSURANCE\",\"PERSONAL_DOC\",\"CHECKUP1\",\"HRT_ATTACK\",\"HRT_DISEASE\",\"STROKE\",\"ARTHRITIS\",\"DIFFWALK\",\"HEIGHT\"],\"z\":[[1.0,0.9902120023714479,-0.023073161602278337,0.011744417023036895,-0.010641427320751677,-0.0070671793345892875,0.004549291826680399,0.001509954830333688,-0.0016863228796792288,0.00402563787197266,-0.00959637250751691,-0.020201791426109478,0.005484372255574124,-0.002947055370556476,-0.0035957358145748608,-0.008989129206221854,0.0018880796808164889,0.0046186962702453975,-0.0024942474110307344],[0.9902120023714479,1.0,-0.04270394667284602,0.005528456428590757,-0.006149065432187563,-0.010665831407068798,0.005249498331248384,-0.00118946677554596,-0.009996802278560545,0.002101907277227536,-0.00442819829561008,-0.022879706605312973,0.0014817496404466925,-0.0025909655853476876,-0.003347591605962703,-0.008958610082931685,0.0014850970510042081,0.009918081558296099,-0.01322000425648784],[-0.023073161602278337,-0.04270394667284602,1.0,0.029914138989911753,-0.1027429230147103,0.049553653897826316,-0.2280153491422528,-0.1676107629414641,0.23088669118642796,0.006768723379474147,-0.2894726898301681,0.05665302507324207,-0.003394705592827992,-0.10828038798056995,-0.08316200776234996,-0.11540983901346637,-0.15359969452103506,-0.288290136801214,0.18135841408790532],[0.011744417023036895,0.005528456428590757,0.029914138989911753,1.0,-0.07310280674680936,-0.044344125436531226,0.07695355013826521,0.04117131198374262,-0.09567341675031853,-0.05464227518920233,-0.007699896728827282,0.005484082464735028,-0.010297466757036959,0.03721776880030417,0.045369131883316365,0.004563272983255405,0.06625742313403946,0.11871807720103746,0.47161969392326936],[-0.010641427320751677,-0.006149065432187563,-0.1027429230147103,-0.07310280674680936,1.0,-0.04356324390602611,0.0927661492194368,-0.1872213214437862,-0.11314033662964464,0.12804387873488782,0.16253453960686354,0.19639790006154875,-0.23362820565115736,0.17557445227092383,0.2045983817000289,0.1352330275048971,0.3808593378238911,0.2388414055337892,-0.1025046126699786],[-0.0070671793345892875,-0.010665831407068798,0.049553653897826316,-0.044344125436531226,-0.04356324390602611,1.0,-0.03144396460771447,-0.014866529923747415,0.02228116336781477,0.009829728552306871,-0.027551371932929697,-0.015775407980711535,0.030687127165640364,-0.012670625426195103,-0.015228929356651938,-0.00772781613354104,-0.0424162257161208,-0.040494847331640695,0.021629723510515307],[0.004549291826680399,0.005249498331248384,-0.2280153491422528,0.07695355013826521,0.0927661492194368,-0.03144396460771447,1.0,0.307778767522355,-0.24641922588199214,-0.05580810325310562,0.11736323027158024,0.11907178202543829,-0.06180798205505199,0.13653239818959337,0.1532326500960214,0.12767249548290752,0.23877661173875453,0.4390375275191473,-0.05113636221732425],[0.001509954830333688,-0.00118946677554596,-0.1676107629414641,0.04117131198374262,-0.1872213214437862,-0.014866529923747415,0.307778767522355,1.0,-0.1138579418566236,-0.13113871562147483,0.055872381585130575,0.01491253072817947,0.04701400849184106,0.024994140315922637,0.025499842517831686,0.040693747652436704,0.06398819090849352,0.16002845444558067,-0.05961021408363052],[-0.0016863228796792288,-0.009996802278560545,0.23088669118642796,-0.09567341675031853,-0.11314033662964464,0.02228116336781477,-0.24641922588199214,-0.1138579418566236,1.0,0.007464656057632294,-0.08292310519997083,-0.009073737331764347,0.029612142546860537,-0.08412149233320128,-0.08249589647638425,-0.08093314202507702,-0.12856471520971136,-0.2826462437943323,0.08825544764559615],[0.00402563787197266,0.002101907277227536,0.006768723379474147,-0.05464227518920233,0.12804387873488782,0.009829728552306871,-0.05580810325310562,-0.13113871562147483,0.007464656057632294,1.0,0.015787193461346168,0.024179998064587253,-0.05289310217724242,0.0037134493634088752,0.011718253216563475,0.012688308866523307,-0.008892714803388067,-0.01885743600175312,-0.009840954856244881],[-0.00959637250751691,-0.00442819829561008,-0.2894726898301681,-0.007699896728827282,0.16253453960686354,-0.027551371932929697,0.11736323027158024,0.055872381585130575,-0.08292310519997083,0.015787193461346168,1.0,0.0687678863877038,-0.10302085241151221,0.07532987641876505,0.06951751921489563,0.06602341719542809,0.12770335009016154,0.14365673780618973,-0.04147453418598815],[-0.020201791426109478,-0.022879706605312973,0.05665302507324207,0.005484082464735028,0.19639790006154875,-0.015775407980711535,0.11907178202543829,0.01491253072817947,-0.009073737331764347,0.024179998064587253,0.0687678863877038,1.0,-0.31197854339724357,0.08496376792449764,0.11081583657850348,0.05807233377188953,0.16064508140161254,0.11412762410417018,-0.06758880718939737],[0.005484372255574124,0.0014817496404466925,-0.003394705592827992,-0.010297466757036959,-0.23362820565115736,0.030687127165640364,-0.06180798205505199,0.04701400849184106,0.029612142546860537,-0.05289310217724242,-0.10302085241151221,-0.31197854339724357,1.0,-0.06317477483765015,-0.07698143035518476,-0.0532280398193742,-0.15385504008956286,-0.09129565952933738,0.08431255185616097],[-0.002947055370556476,-0.0025909655853476876,-0.10828038798056995,0.03721776880030417,0.17557445227092383,-0.012670625426195103,0.13653239818959337,0.024994140315922637,-0.08412149233320128,0.0037134493634088752,0.07532987641876505,0.08496376792449764,-0.06317477483765015,1.0,0.44791029876513605,0.17671965729173825,0.11623045777908862,0.16285441102770487,0.02499674220099227],[-0.0035957358145748608,-0.003347591605962703,-0.08316200776234996,0.045369131883316365,0.2045983817000289,-0.015228929356651938,0.1532326500960214,0.025499842517831686,-0.08249589647638425,0.011718253216563475,0.06951751921489563,0.11081583657850348,-0.07698143035518476,0.44791029876513605,1.0,0.15219919693495113,0.14763652826069024,0.1751161834211127,0.019730005114268867],[-0.008989129206221854,-0.008958610082931685,-0.11540983901346637,0.004563272983255405,0.1352330275048971,-0.00772781613354104,0.12767249548290752,0.040693747652436704,-0.08093314202507702,0.012688308866523307,0.06602341719542809,0.05807233377188953,-0.0532280398193742,0.17671965729173825,0.15219919693495113,1.0,0.09865718768267367,0.16733727461305772,-0.021693445275129005],[0.0018880796808164889,0.0014850970510042081,-0.15359969452103506,0.06625742313403946,0.3808593378238911,-0.0424162257161208,0.23877661173875453,0.06398819090849352,-0.12856471520971136,-0.008892714803388067,0.12770335009016154,0.16064508140161254,-0.15385504008956286,0.11623045777908862,0.14763652826069024,0.09865718768267367,1.0,0.32283863183839984,-0.09287015595511156],[0.0046186962702453975,0.009918081558296099,-0.288290136801214,0.11871807720103746,0.2388414055337892,-0.040494847331640695,0.4390375275191473,0.16002845444558067,-0.2826462437943323,-0.01885743600175312,0.14365673780618973,0.11412762410417018,-0.09129565952933738,0.16285441102770487,0.1751161834211127,0.16733727461305772,0.32283863183839984,1.0,-0.08195123077480682],[-0.0024942474110307344,-0.01322000425648784,0.18135841408790532,0.47161969392326936,-0.1025046126699786,0.021629723510515307,-0.05113636221732425,-0.05961021408363052,0.08825544764559615,-0.009840954856244881,-0.04147453418598815,-0.06758880718939737,0.08431255185616097,0.02499674220099227,0.019730005114268867,-0.021693445275129005,-0.09287015595511156,-0.08195123077480682,1.0]],\"type\":\"heatmap\"}],                        {\"margin\":{\"b\":100,\"l\":100,\"r\":0,\"t\":0},\"template\":{\"data\":{\"barpolar\":[{\"marker\":{\"line\":{\"color\":\"#E5ECF6\",\"width\":0.5},\"pattern\":{\"fillmode\":\"overlay\",\"size\":10,\"solidity\":0.2}},\"type\":\"barpolar\"}],\"bar\":[{\"error_x\":{\"color\":\"#2a3f5f\"},\"error_y\":{\"color\":\"#2a3f5f\"},\"marker\":{\"line\":{\"color\":\"#E5ECF6\",\"width\":0.5},\"pattern\":{\"fillmode\":\"overlay\",\"size\":10,\"solidity\":0.2}},\"type\":\"bar\"}],\"carpet\":[{\"aaxis\":{\"endlinecolor\":\"#2a3f5f\",\"gridcolor\":\"white\",\"linecolor\":\"white\",\"minorgridcolor\":\"white\",\"startlinecolor\":\"#2a3f5f\"},\"baxis\":{\"endlinecolor\":\"#2a3f5f\",\"gridcolor\":\"white\",\"linecolor\":\"white\",\"minorgridcolor\":\"white\",\"startlinecolor\":\"#2a3f5f\"},\"type\":\"carpet\"}],\"choropleth\":[{\"colorbar\":{\"outlinewidth\":0,\"ticks\":\"\"},\"type\":\"choropleth\"}],\"contourcarpet\":[{\"colorbar\":{\"outlinewidth\":0,\"ticks\":\"\"},\"type\":\"contourcarpet\"}],\"contour\":[{\"colorbar\":{\"outlinewidth\":0,\"ticks\":\"\"},\"colorscale\":[[0.0,\"#0d0887\"],[0.1111111111111111,\"#46039f\"],[0.2222222222222222,\"#7201a8\"],[0.3333333333333333,\"#9c179e\"],[0.4444444444444444,\"#bd3786\"],[0.5555555555555556,\"#d8576b\"],[0.6666666666666666,\"#ed7953\"],[0.7777777777777778,\"#fb9f3a\"],[0.8888888888888888,\"#fdca26\"],[1.0,\"#f0f921\"]],\"type\":\"contour\"}],\"heatmapgl\":[{\"colorbar\":{\"outlinewidth\":0,\"ticks\":\"\"},\"colorscale\":[[0.0,\"#0d0887\"],[0.1111111111111111,\"#46039f\"],[0.2222222222222222,\"#7201a8\"],[0.3333333333333333,\"#9c179e\"],[0.4444444444444444,\"#bd3786\"],[0.5555555555555556,\"#d8576b\"],[0.6666666666666666,\"#ed7953\"],[0.7777777777777778,\"#fb9f3a\"],[0.8888888888888888,\"#fdca26\"],[1.0,\"#f0f921\"]],\"type\":\"heatmapgl\"}],\"heatmap\":[{\"colorbar\":{\"outlinewidth\":0,\"ticks\":\"\"},\"colorscale\":[[0.0,\"#0d0887\"],[0.1111111111111111,\"#46039f\"],[0.2222222222222222,\"#7201a8\"],[0.3333333333333333,\"#9c179e\"],[0.4444444444444444,\"#bd3786\"],[0.5555555555555556,\"#d8576b\"],[0.6666666666666666,\"#ed7953\"],[0.7777777777777778,\"#fb9f3a\"],[0.8888888888888888,\"#fdca26\"],[1.0,\"#f0f921\"]],\"type\":\"heatmap\"}],\"histogram2dcontour\":[{\"colorbar\":{\"outlinewidth\":0,\"ticks\":\"\"},\"colorscale\":[[0.0,\"#0d0887\"],[0.1111111111111111,\"#46039f\"],[0.2222222222222222,\"#7201a8\"],[0.3333333333333333,\"#9c179e\"],[0.4444444444444444,\"#bd3786\"],[0.5555555555555556,\"#d8576b\"],[0.6666666666666666,\"#ed7953\"],[0.7777777777777778,\"#fb9f3a\"],[0.8888888888888888,\"#fdca26\"],[1.0,\"#f0f921\"]],\"type\":\"histogram2dcontour\"}],\"histogram2d\":[{\"colorbar\":{\"outlinewidth\":0,\"ticks\":\"\"},\"colorscale\":[[0.0,\"#0d0887\"],[0.1111111111111111,\"#46039f\"],[0.2222222222222222,\"#7201a8\"],[0.3333333333333333,\"#9c179e\"],[0.4444444444444444,\"#bd3786\"],[0.5555555555555556,\"#d8576b\"],[0.6666666666666666,\"#ed7953\"],[0.7777777777777778,\"#fb9f3a\"],[0.8888888888888888,\"#fdca26\"],[1.0,\"#f0f921\"]],\"type\":\"histogram2d\"}],\"histogram\":[{\"marker\":{\"pattern\":{\"fillmode\":\"overlay\",\"size\":10,\"solidity\":0.2}},\"type\":\"histogram\"}],\"mesh3d\":[{\"colorbar\":{\"outlinewidth\":0,\"ticks\":\"\"},\"type\":\"mesh3d\"}],\"parcoords\":[{\"line\":{\"colorbar\":{\"outlinewidth\":0,\"ticks\":\"\"}},\"type\":\"parcoords\"}],\"pie\":[{\"automargin\":true,\"type\":\"pie\"}],\"scatter3d\":[{\"line\":{\"colorbar\":{\"outlinewidth\":0,\"ticks\":\"\"}},\"marker\":{\"colorbar\":{\"outlinewidth\":0,\"ticks\":\"\"}},\"type\":\"scatter3d\"}],\"scattercarpet\":[{\"marker\":{\"colorbar\":{\"outlinewidth\":0,\"ticks\":\"\"}},\"type\":\"scattercarpet\"}],\"scattergeo\":[{\"marker\":{\"colorbar\":{\"outlinewidth\":0,\"ticks\":\"\"}},\"type\":\"scattergeo\"}],\"scattergl\":[{\"marker\":{\"colorbar\":{\"outlinewidth\":0,\"ticks\":\"\"}},\"type\":\"scattergl\"}],\"scattermapbox\":[{\"marker\":{\"colorbar\":{\"outlinewidth\":0,\"ticks\":\"\"}},\"type\":\"scattermapbox\"}],\"scatterpolargl\":[{\"marker\":{\"colorbar\":{\"outlinewidth\":0,\"ticks\":\"\"}},\"type\":\"scatterpolargl\"}],\"scatterpolar\":[{\"marker\":{\"colorbar\":{\"outlinewidth\":0,\"ticks\":\"\"}},\"type\":\"scatterpolar\"}],\"scatter\":[{\"fillpattern\":{\"fillmode\":\"overlay\",\"size\":10,\"solidity\":0.2},\"type\":\"scatter\"}],\"scatterternary\":[{\"marker\":{\"colorbar\":{\"outlinewidth\":0,\"ticks\":\"\"}},\"type\":\"scatterternary\"}],\"surface\":[{\"colorbar\":{\"outlinewidth\":0,\"ticks\":\"\"},\"colorscale\":[[0.0,\"#0d0887\"],[0.1111111111111111,\"#46039f\"],[0.2222222222222222,\"#7201a8\"],[0.3333333333333333,\"#9c179e\"],[0.4444444444444444,\"#bd3786\"],[0.5555555555555556,\"#d8576b\"],[0.6666666666666666,\"#ed7953\"],[0.7777777777777778,\"#fb9f3a\"],[0.8888888888888888,\"#fdca26\"],[1.0,\"#f0f921\"]],\"type\":\"surface\"}],\"table\":[{\"cells\":{\"fill\":{\"color\":\"#EBF0F8\"},\"line\":{\"color\":\"white\"}},\"header\":{\"fill\":{\"color\":\"#C8D4E3\"},\"line\":{\"color\":\"white\"}},\"type\":\"table\"}]},\"layout\":{\"annotationdefaults\":{\"arrowcolor\":\"#2a3f5f\",\"arrowhead\":0,\"arrowwidth\":1},\"autotypenumbers\":\"strict\",\"coloraxis\":{\"colorbar\":{\"outlinewidth\":0,\"ticks\":\"\"}},\"colorscale\":{\"diverging\":[[0,\"#8e0152\"],[0.1,\"#c51b7d\"],[0.2,\"#de77ae\"],[0.3,\"#f1b6da\"],[0.4,\"#fde0ef\"],[0.5,\"#f7f7f7\"],[0.6,\"#e6f5d0\"],[0.7,\"#b8e186\"],[0.8,\"#7fbc41\"],[0.9,\"#4d9221\"],[1,\"#276419\"]],\"sequential\":[[0.0,\"#0d0887\"],[0.1111111111111111,\"#46039f\"],[0.2222222222222222,\"#7201a8\"],[0.3333333333333333,\"#9c179e\"],[0.4444444444444444,\"#bd3786\"],[0.5555555555555556,\"#d8576b\"],[0.6666666666666666,\"#ed7953\"],[0.7777777777777778,\"#fb9f3a\"],[0.8888888888888888,\"#fdca26\"],[1.0,\"#f0f921\"]],\"sequentialminus\":[[0.0,\"#0d0887\"],[0.1111111111111111,\"#46039f\"],[0.2222222222222222,\"#7201a8\"],[0.3333333333333333,\"#9c179e\"],[0.4444444444444444,\"#bd3786\"],[0.5555555555555556,\"#d8576b\"],[0.6666666666666666,\"#ed7953\"],[0.7777777777777778,\"#fb9f3a\"],[0.8888888888888888,\"#fdca26\"],[1.0,\"#f0f921\"]]},\"colorway\":[\"#636efa\",\"#EF553B\",\"#00cc96\",\"#ab63fa\",\"#FFA15A\",\"#19d3f3\",\"#FF6692\",\"#B6E880\",\"#FF97FF\",\"#FECB52\"],\"font\":{\"color\":\"#2a3f5f\"},\"geo\":{\"bgcolor\":\"white\",\"lakecolor\":\"white\",\"landcolor\":\"#E5ECF6\",\"showlakes\":true,\"showland\":true,\"subunitcolor\":\"white\"},\"hoverlabel\":{\"align\":\"left\"},\"hovermode\":\"closest\",\"mapbox\":{\"style\":\"light\"},\"paper_bgcolor\":\"white\",\"plot_bgcolor\":\"#E5ECF6\",\"polar\":{\"angularaxis\":{\"gridcolor\":\"white\",\"linecolor\":\"white\",\"ticks\":\"\"},\"bgcolor\":\"#E5ECF6\",\"radialaxis\":{\"gridcolor\":\"white\",\"linecolor\":\"white\",\"ticks\":\"\"}},\"scene\":{\"xaxis\":{\"backgroundcolor\":\"#E5ECF6\",\"gridcolor\":\"white\",\"gridwidth\":2,\"linecolor\":\"white\",\"showbackground\":true,\"ticks\":\"\",\"zerolinecolor\":\"white\"},\"yaxis\":{\"backgroundcolor\":\"#E5ECF6\",\"gridcolor\":\"white\",\"gridwidth\":2,\"linecolor\":\"white\",\"showbackground\":true,\"ticks\":\"\",\"zerolinecolor\":\"white\"},\"zaxis\":{\"backgroundcolor\":\"#E5ECF6\",\"gridcolor\":\"white\",\"gridwidth\":2,\"linecolor\":\"white\",\"showbackground\":true,\"ticks\":\"\",\"zerolinecolor\":\"white\"}},\"shapedefaults\":{\"line\":{\"color\":\"#2a3f5f\"}},\"ternary\":{\"aaxis\":{\"gridcolor\":\"white\",\"linecolor\":\"white\",\"ticks\":\"\"},\"baxis\":{\"gridcolor\":\"white\",\"linecolor\":\"white\",\"ticks\":\"\"},\"bgcolor\":\"#E5ECF6\",\"caxis\":{\"gridcolor\":\"white\",\"linecolor\":\"white\",\"ticks\":\"\"}},\"title\":{\"x\":0.05},\"xaxis\":{\"automargin\":true,\"gridcolor\":\"white\",\"linecolor\":\"white\",\"ticks\":\"\",\"title\":{\"standoff\":15},\"zerolinecolor\":\"white\",\"zerolinewidth\":2},\"yaxis\":{\"automargin\":true,\"gridcolor\":\"white\",\"linecolor\":\"white\",\"ticks\":\"\",\"title\":{\"standoff\":15},\"zerolinecolor\":\"white\",\"zerolinewidth\":2}}},\"title\":{\"text\":\"Correlation Matrix for variables\"},\"xaxis\":{\"tickfont\":{\"size\":9}},\"yaxis\":{\"tickfont\":{\"size\":9}}},                        {\"responsive\": true}                    ).then(function(){\n",
       "                            \n",
       "var gd = document.getElementById('b2218d60-666f-48d3-b22a-d47b370c6d96');\n",
       "var x = new MutationObserver(function (mutations, observer) {{\n",
       "        var display = window.getComputedStyle(gd).display;\n",
       "        if (!display || display === 'none') {{\n",
       "            console.log([gd, 'removed!']);\n",
       "            Plotly.purge(gd);\n",
       "            observer.disconnect();\n",
       "        }}\n",
       "}});\n",
       "\n",
       "// Listen for the removal of the full notebook cells\n",
       "var notebookContainer = gd.closest('#notebook-container');\n",
       "if (notebookContainer) {{\n",
       "    x.observe(notebookContainer, {childList: true});\n",
       "}}\n",
       "\n",
       "// Listen for the clearing of the current output cell\n",
       "var outputEl = gd.closest('.output');\n",
       "if (outputEl) {{\n",
       "    x.observe(outputEl, {childList: true});\n",
       "}}\n",
       "\n",
       "                        })                };                });            </script>        </div>"
      ]
     },
     "metadata": {},
     "output_type": "display_data"
    }
   ],
   "source": [
    "fig.savefig('image/heat_map.png')\n",
    "correlation_plot()"
   ]
  },
  {
   "cell_type": "code",
   "execution_count": 27,
   "id": "7bb5f0a1",
   "metadata": {},
   "outputs": [
    {
     "name": "stdout",
     "output_type": "stream",
     "text": [
      "DIABETES         1.000000\n",
      "INCOME           0.049554\n",
      "CHECKUP1         0.030687\n",
      "EXERCISE         0.022281\n",
      "HEIGHT           0.021630\n",
      "SLEEP            0.009830\n",
      "ID              -0.007067\n",
      "STROKE          -0.007728\n",
      "STATE           -0.010666\n",
      "HRT_ATTACK      -0.012671\n",
      "MENTHLTH        -0.014867\n",
      "HRT_DISEASE     -0.015229\n",
      "PERSONAL_DOC    -0.015775\n",
      "HLT_INSURANCE   -0.027551\n",
      "PHYSHLTH        -0.031444\n",
      "DIFFWALK        -0.040495\n",
      "ARTHRITIS       -0.042416\n",
      "AGE             -0.043563\n",
      "WEIGHT          -0.044344\n",
      "Name: DIABETES, dtype: float64\n"
     ]
    }
   ],
   "source": [
    "correlation_matrix = data.corr()['DIABETES'].sort_values(ascending=False)\n",
    "\n",
    "# Print or visualize the correlation values\n",
    "print(correlation_matrix)"
   ]
  },
  {
   "cell_type": "code",
   "execution_count": 75,
   "id": "f7ab85c1",
   "metadata": {
    "scrolled": false
   },
   "outputs": [
    {
     "data": {
      "image/png": "[encoded data removed]",
      "text/plain": [
       "<Figure size 640x480 with 2 Axes>"
      ]
     },
     "metadata": {},
     "output_type": "display_data"
    }
   ],
   "source": [
    "# Sort correlation values in descending order\n",
    "correlation_matrix_sorted = correlation_matrix .sort_values(ascending=False)\n",
    "\n",
    "sns.set(font_scale=0.8)\n",
    "sns.set_style(\"white\")\n",
    "sns.set_palette(\"PuBuGn_d\")\n",
    "sns.heatmap(correlation_matrix_sorted.to_frame(), cmap=\"coolwarm\", annot=True, fmt='.2f')\n",
    "plt.title('Correlation with Diabetes')\n",
    "fig.savefig('image/Correlation_DIABETES.png')\n",
    "plt.show()"
   ]
  },
  {
   "cell_type": "code",
   "execution_count": 39,
   "id": "e50886de",
   "metadata": {},
   "outputs": [],
   "source": [
    "def get_top_abs_correlations(df, n=5):\n",
    "    au_corr = df.corr().abs().unstack()\n",
    "    au_corr = au_corr['DIABETES'].sort_values(ascending=False)\n",
    "    return au_corr[0:n]"
   ]
  },
  {
   "cell_type": "code",
   "execution_count": 52,
   "id": "7d11c8cb",
   "metadata": {},
   "outputs": [
    {
     "name": "stdout",
     "output_type": "stream",
     "text": [
      "DIABETES     1.000000\n",
      "INCOME       0.049554\n",
      "WEIGHT       0.044344\n",
      "AGE          0.043563\n",
      "ARTHRITIS    0.042416\n",
      "dtype: float64\n"
     ]
    }
   ],
   "source": [
    "print(get_top_abs_correlations(data, 5))"
   ]
  },
  {
   "cell_type": "markdown",
   "id": "ae0e2324",
   "metadata": {},
   "source": [
    "best feature： ‘GENDER', 'BMI', 'RACE', '_SMOKER3', 'EDUCATION'，’INCOME‘, 'WEIGHT', 'AGE', 'ARTHRITIS'"
   ]
  },
  {
   "cell_type": "code",
   "execution_count": 76,
   "id": "fccd5963",
   "metadata": {
    "scrolled": true
   },
   "outputs": [
    {
     "data": {
      "image/png": "[encoded data removed]",
      "text/plain": [
       "<Figure size 800x3600 with 9 Axes>"
      ]
     },
     "metadata": {},
     "output_type": "display_data"
    }
   ],
   "source": [
    "features = data.drop('DIABETES', axis=1)\n",
    "sns.set_palette(\"pastel\")\n",
    "\n",
    "best_features = features[['GENDER', 'BMI', 'RACE', '_SMOKER3','EDUCATION','INCOME', 'WEIGHT', 'AGE', 'ARTHRITIS']]\n",
    "\n",
    "# Plot distribution of each feature according to the target variable\n",
    "fig, axes = plt.subplots(nrows=len(best_features.columns), ncols=1, figsize=(8, 4 * len(best_features.columns)))\n",
    "\n",
    "for i, feature in enumerate(best_features.columns):\n",
    "    sns.histplot(data=data, x=feature, hue='DIABETES', multiple='stack', ax=axes[i], kde=True, palette={0: 'skyblue', 1: 'salmon'})\n",
    "    axes[i].set_title(f'Distribution of {feature} by Target')\n",
    "    axes[i].set_xlabel(feature)\n",
    "    axes[i].set_ylabel('Frequency')\n",
    "    axes[i].legend(['Diabetes', 'No Diabetes'])\n",
    "\n",
    "# Adjust spacing\n",
    "plt.tight_layout()\n",
    "\n",
    "# Show the plot\n",
    "fig.savefig('image/Features_Bivariate.png')\n",
    "plt.show()"
   ]
  },
  {
   "cell_type": "markdown",
   "id": "c2009255",
   "metadata": {},
   "source": [
    "‘GENDER', 'BMI', 'RACE', '_SMOKER3', 'EDUCATION'，’INCOME‘, 'WEIGHT', 'AGE', 'ARTHRITIS'"
   ]
  }
 ],
 "metadata": {
  "kernelspec": {
   "display_name": "Python 3 (ipykernel)",
   "language": "python",
   "name": "python3"
  },
  "language_info": {
   "codemirror_mode": {
    "name": "ipython",
    "version": 3
   },
   "file_extension": ".py",
   "mimetype": "text/x-python",
   "name": "python",
   "nbconvert_exporter": "python",
   "pygments_lexer": "ipython3",
   "version": "3.10.11"
  }
 },
 "nbformat": 4,
 "nbformat_minor": 5
}
